{
 "cells": [
  {
   "cell_type": "code",
   "execution_count": 19,
   "id": "responsible-inventory",
   "metadata": {},
   "outputs": [
    {
     "name": "stdout",
     "output_type": "stream",
     "text": [
      "[[1 2 1 2]\n",
      " [3 4 3 4]]\n"
     ]
    }
   ],
   "source": [
    "import numpy as np\n"
   ]
  },
  {
   "cell_type": "code",
   "execution_count": 30,
   "id": "satellite-glasgow",
   "metadata": {},
   "outputs": [
    {
     "name": "stdout",
     "output_type": "stream",
     "text": [
      "[[[[ 0  1  2  3]\n",
      "   [ 4  5  6  7]\n",
      "   [ 8  9 10 11]]\n",
      "\n",
      "  [[12 13 14 15]\n",
      "   [16 17 18 19]\n",
      "   [20 21 22 23]]]\n",
      "\n",
      "\n",
      " [[[ 0  1  2  3]\n",
      "   [ 4  5  6  7]\n",
      "   [ 8  9 10 11]]\n",
      "\n",
      "  [[12 13 14 15]\n",
      "   [16 17 18 19]\n",
      "   [20 21 22 23]]]]\n",
      "----------------\n",
      "[[[ 0  1  2  3  0  1  2  3]\n",
      "  [ 4  5  6  7  4  5  6  7]\n",
      "  [ 8  9 10 11  8  9 10 11]]\n",
      "\n",
      " [[12 13 14 15 12 13 14 15]\n",
      "  [16 17 18 19 16 17 18 19]\n",
      "  [20 21 22 23 20 21 22 23]]]\n"
     ]
    }
   ],
   "source": [
    "x,y,z = 2,3,4\n",
    "k = np.arange(x*y*z).reshape((x,y,z))\n",
    "l1 = np.tile(k, (2, 1,1,1))\n",
    "l2 = np.tile(k, 2)\n",
    "print(l1)\n",
    "print(\"----------------\")\n",
    "print(l2)"
   ]
  },
  {
   "cell_type": "code",
   "execution_count": null,
   "id": "aboriginal-medium",
   "metadata": {},
   "outputs": [],
   "source": []
  }
 ],
 "metadata": {
  "kernelspec": {
   "display_name": "Python 3",
   "language": "python",
   "name": "python3"
  },
  "language_info": {
   "codemirror_mode": {
    "name": "ipython",
    "version": 3
   },
   "file_extension": ".py",
   "mimetype": "text/x-python",
   "name": "python",
   "nbconvert_exporter": "python",
   "pygments_lexer": "ipython3",
   "version": "3.8.5"
  }
 },
 "nbformat": 4,
 "nbformat_minor": 5
}
