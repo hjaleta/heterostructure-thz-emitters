{
 "cells": [
  {
   "cell_type": "code",
   "execution_count": 1,
   "id": "responsible-inventory",
   "metadata": {},
   "outputs": [],
   "source": [
    "import numpy as np\n"
   ]
  },
  {
   "cell_type": "code",
   "execution_count": 11,
   "id": "satellite-glasgow",
   "metadata": {},
   "outputs": [
    {
     "name": "stdout",
     "output_type": "stream",
     "text": [
      "(2, 3, 4, 5)\n",
      "[[[[1. 1. 1. 1. 1.]\n",
      "   [1. 1. 1. 1. 1.]\n",
      "   [1. 1. 1. 1. 1.]\n",
      "   [1. 1. 1. 1. 1.]]\n",
      "\n",
      "  [[1. 1. 1. 1. 1.]\n",
      "   [1. 1. 1. 1. 1.]\n",
      "   [1. 1. 1. 1. 1.]\n",
      "   [1. 1. 1. 1. 1.]]\n",
      "\n",
      "  [[1. 1. 1. 1. 1.]\n",
      "   [1. 1. 1. 1. 1.]\n",
      "   [1. 1. 1. 1. 1.]\n",
      "   [1. 1. 1. 1. 1.]]]\n",
      "\n",
      "\n",
      " [[[1. 1. 1. 1. 1.]\n",
      "   [1. 1. 1. 1. 1.]\n",
      "   [1. 1. 1. 1. 1.]\n",
      "   [1. 1. 1. 1. 1.]]\n",
      "\n",
      "  [[1. 1. 1. 1. 1.]\n",
      "   [1. 1. 1. 1. 1.]\n",
      "   [1. 1. 1. 1. 1.]\n",
      "   [1. 1. 1. 1. 1.]]\n",
      "\n",
      "  [[1. 1. 1. 1. 1.]\n",
      "   [1. 1. 1. 1. 1.]\n",
      "   [1. 1. 1. 1. 1.]\n",
      "   [1. 1. 1. 1. 1.]]]]\n",
      "[[[[0 1 2 3 4]]]\n",
      "\n",
      "\n",
      " [[[5 6 7 8 9]]]]\n",
      "[[[[0. 1. 2. 3. 4.]\n",
      "   [0. 1. 2. 3. 4.]\n",
      "   [0. 1. 2. 3. 4.]\n",
      "   [0. 1. 2. 3. 4.]]\n",
      "\n",
      "  [[0. 1. 2. 3. 4.]\n",
      "   [0. 1. 2. 3. 4.]\n",
      "   [0. 1. 2. 3. 4.]\n",
      "   [0. 1. 2. 3. 4.]]\n",
      "\n",
      "  [[0. 1. 2. 3. 4.]\n",
      "   [0. 1. 2. 3. 4.]\n",
      "   [0. 1. 2. 3. 4.]\n",
      "   [0. 1. 2. 3. 4.]]]\n",
      "\n",
      "\n",
      " [[[5. 6. 7. 8. 9.]\n",
      "   [5. 6. 7. 8. 9.]\n",
      "   [5. 6. 7. 8. 9.]\n",
      "   [5. 6. 7. 8. 9.]]\n",
      "\n",
      "  [[5. 6. 7. 8. 9.]\n",
      "   [5. 6. 7. 8. 9.]\n",
      "   [5. 6. 7. 8. 9.]\n",
      "   [5. 6. 7. 8. 9.]]\n",
      "\n",
      "  [[5. 6. 7. 8. 9.]\n",
      "   [5. 6. 7. 8. 9.]\n",
      "   [5. 6. 7. 8. 9.]\n",
      "   [5. 6. 7. 8. 9.]]]]\n"
     ]
    }
   ],
   "source": [
    "t,x,y,z = 2,3,4,5\n",
    "k = np.ones((x,y,z))\n",
    "l1 = np.tile(k, (t, 1,1,1))\n",
    "print(l1.shape)\n",
    "print(l1)\n",
    "spin = np.arange(t*z).reshape((t,1,1,z))\n",
    "print(spin)\n",
    "res = l1*spin\n",
    "print(res)\n",
    "# print(\"----------------\")\n",
    "# print(l2)"
   ]
  },
  {
   "cell_type": "code",
   "execution_count": null,
   "id": "aboriginal-medium",
   "metadata": {},
   "outputs": [],
   "source": []
  }
 ],
 "metadata": {
  "kernelspec": {
   "display_name": "Python 3 (ipykernel)",
   "language": "python",
   "name": "python3"
  },
  "language_info": {
   "codemirror_mode": {
    "name": "ipython",
    "version": 3
   },
   "file_extension": ".py",
   "mimetype": "text/x-python",
   "name": "python",
   "nbconvert_exporter": "python",
   "pygments_lexer": "ipython3",
   "version": "3.8.10"
  }
 },
 "nbformat": 4,
 "nbformat_minor": 5
}
