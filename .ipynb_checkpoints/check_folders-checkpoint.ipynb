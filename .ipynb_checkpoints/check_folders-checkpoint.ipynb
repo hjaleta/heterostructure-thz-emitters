{
 "cells": [
  {
   "cell_type": "code",
   "execution_count": 1,
   "id": "appreciated-hotel",
   "metadata": {},
   "outputs": [],
   "source": [
    "import os\n",
    "import numpy as np\n",
    "import matplotlib.pyplot as plt\n",
    "import shutil\n"
   ]
  },
  {
   "cell_type": "code",
   "execution_count": 12,
   "id": "junior-oregon",
   "metadata": {},
   "outputs": [],
   "source": [
    "def check_folders(folder_rootdir, filename):\n",
    "\n",
    "    N_folders = 0\n",
    "    corrupted_folders = []\n",
    "\n",
    "    for folder in os.listdir(folder_rootdir):\n",
    "        N_folders += 1\n",
    "        folderpath = folder_rootdir+folder\n",
    "        has_file = False\n",
    "        for file in os.listdir(folderpath):\n",
    "            if file == filename:\n",
    "                has_file = True\n",
    "        if not has_file:\n",
    "            corrupted_folders.append(folderpath)\n",
    "    \n",
    "    return corrupted_folders, N_folders\n",
    "\n",
    "def check_flux(folder_rootdir, remove, newdir):\n",
    "\n",
    "    flux_len = []\n",
    "    complete = 0\n",
    "    complete_folders = []\n",
    "    incomplete_folders = []\n",
    "    \n",
    "    for folder in os.listdir(folder_rootdir):\n",
    "        folderpath = folder_rootdir+folder\n",
    "#         has_file = False\n",
    "        for file in os.listdir(folderpath):\n",
    "            if file == \"flux.out\":\n",
    "                try:\n",
    "                    arr = np.loadtxt(folder_rootdir + \"/\" + folder + \"/\" + file)\n",
    "                    t = arr.shape[0]\n",
    "                    if t == 1000:\n",
    "                        complete_folders.append(folder)\n",
    "                        complete += 1\n",
    "                    else:\n",
    "                        incomplete_folders.append(folder)\n",
    "                except:\n",
    "                    incomplete_folders.append(folder)\n",
    "    if type(newdir) == str:\n",
    "        for folder in incomplete_folders:\n",
    "            old = folder_rootdir + \"/\" + folder\n",
    "            new = newdir+\"/\"+folder\n",
    "            shutil.move(old, new)\n",
    "    if remove:\n",
    "        for folder in incomplete_folders:\n",
    "            p = folder_rootdir + \"/\" + folder\n",
    "            shutil.rmtree(p)\n",
    "    return complete_folders, incomplete_folders\n",
    "\n",
    "def build_one_input_params_py(z, param_source_path, param_target_path, spin_flux_path):\n",
    "    with open(param_source, 'r') as f:\n",
    "        lines = f.read().split(\"\\n\")\n",
    "    lines[10] = f'\"x\": (-1000, 1000), \"y\":(-1000, 1000), \"z\": (0,{z[0]}),'\n",
    "    lines[17] = f'\"x\": (-1000, 1000), \"y\":(-1000, 1000), \"z\": ({z[0]}, {sum(z)}),'\n",
    "    lines[35] = f'spin_flux_path = \"{spin_flux_path}\"'\n",
    "    input_params_string = \"\\n\".join(lines)\n",
    "    input_params_file = open(param_target_path,\"w\")\n",
    "    input_params_file.write(input_params_string)\n",
    "    input_params_file.close()\n",
    "\n",
    "def delete_filetype(parent_dir, file_ext):\n",
    "    all_filepaths = []\n",
    "    ext_len = len(file_ext)\n",
    "    i = 0\n",
    "    j = 0\n",
    "    for dirpath, dirs, files in os.walk(parent_dir):\n",
    "        filepaths =[dirpath + \"/\" + file for file in files]\n",
    "        for f in filepaths:\n",
    "            j += 1\n",
    "            if f[-ext_len:] == file_ext:\n",
    "                os.remove(f)\n",
    "\n",
    "\n",
    "def build_all_input_params_py(parent_dir):\n",
    "    for folderpath in os.listdir(parent_dir):\n",
    "        print(folderpath)\n",
    "#         z = (fo"
   ]
  },
  {
   "cell_type": "code",
   "execution_count": 32,
   "id": "falling-services",
   "metadata": {},
   "outputs": [
    {
     "name": "stdout",
     "output_type": "stream",
     "text": [
      "['W2-2-L100', 'W2-2-L30', 'W2-2-L60', 'W2-3-L100', 'W2-3-L30', 'W2-3-L60', 'W2-4-L100', 'W2-4-L30', 'W2-4-L60', 'W2-5-L100', 'W2-5-L30', 'W2-5-L60', 'W2-6-L100', 'W2-6-L30', 'W2-6-L60', 'W3-2-L100', 'W3-2-L30', 'W3-2-L60', 'W3-3-L100', 'W3-3-L30', 'W3-3-L60', 'W3-4-L100', 'W3-4-L30', 'W3-4-L60', 'W3-5-L100', 'W3-5-L30', 'W3-5-L60', 'W3-6-L100', 'W3-6-L30', 'W3-6-L60', 'W4-2-L100', 'W4-2-L30', 'W4-2-L60', 'W4-3-L100', 'W4-3-L30', 'W4-3-L60', 'W4-4-L100', 'W4-4-L30', 'W4-4-L60', 'W4-5-L100', 'W4-5-L30', 'W4-5-L60', 'W4-6-L100', 'W4-6-L30', 'W4-6-L60', 'W5-2-L100', 'W5-2-L30', 'W5-2-L60', 'W5-3-L100', 'W5-3-L30', 'W5-3-L60', 'W5-4-L100', 'W5-4-L30', 'W5-4-L60', 'W5-5-L100', 'W5-5-L30', 'W5-5-L60', 'W5-6-L100', 'W5-6-L30', 'W5-6-L60', 'W6-2-L100', 'W6-2-L30', 'W6-2-L60', 'W6-3-L100', 'W6-3-L30', 'W6-3-L60', 'W6-4-L100', 'W6-4-L30', 'W6-4-L60', 'W6-5-L100', 'W6-5-L30', 'W6-5-L60', 'W6-6-L100', 'W6-6-L30', 'W6-6-L60']\n",
      "75\n"
     ]
    }
   ],
   "source": [
    "params =[]\n",
    "for dir in os.listdir('/home/hjaleta/spin_project/simulation2/FuPt-closed/'):\n",
    "    params.append(dir)\n",
    "    \n",
    "    \n",
    "    \n",
    "for dir in os.listdir('/home/hjaleta/spin_project/Results - Spin Current/FuPt-closed/'):\n",
    "    \n",
    "    params.append(dir)\n",
    "\n",
    "params.sort()\n",
    "print(params)\n",
    "print(len(params))"
   ]
  },
  {
   "cell_type": "code",
   "execution_count": 40,
   "id": "express-decade",
   "metadata": {},
   "outputs": [
    {
     "name": "stdout",
     "output_type": "stream",
     "text": [
      "/home/hjaleta/spin_project/Results - Spin Current/FuPt-closed/W2-3-L60\n"
     ]
    }
   ],
   "source": [
    "for subdir, dirs, files in os.walk('/home/hjaleta/spin_project/Results - Spin Current/'):\n",
    "#     print(subdir)\n",
    "    if subdir[-1] == \"0\":\n",
    "        have_flux = False\n",
    "        for file in files:\n",
    "            if file == \"flux.out\":\n",
    "                have_flux = True\n",
    "        if not have_flux:\n",
    "            print(subdir)"
   ]
  },
  {
   "cell_type": "code",
   "execution_count": 30,
   "id": "limited-heaven",
   "metadata": {},
   "outputs": [
    {
     "name": "stdout",
     "output_type": "stream",
     "text": [
      "1000.\n",
      "1000.\n",
      "1000.\n",
      "1000.\n",
      "1000.\n",
      "1000.\n",
      "1000.\n",
      "1000.\n",
      "1000.\n",
      "1000.\n",
      "1000.\n",
      "1000.\n",
      "1000.\n",
      "1000.\n",
      "1000.\n",
      "1000.\n",
      "1000.\n",
      "1000.\n",
      "1000.\n",
      "1000.\n",
      "1000.\n",
      "1000.\n",
      "1000.\n",
      "1000.\n",
      "1000.\n",
      "1000.\n",
      "1000.\n",
      "1000.\n",
      "1000.\n",
      "1000.\n",
      "1000.\n",
      "1000.\n",
      "1000.\n",
      "1000.\n",
      "1000.\n"
     ]
    }
   ],
   "source": [
    "rm_dir_list = []\n",
    "rm_file_list = []\n",
    "\n",
    "for subdir, dirs, files in os.walk('/home/hjaleta/spin_project/simulation2/FuPt-closed/'):\n",
    "    for file in files:\n",
    "        if file == \"input.dat\":\n",
    "            f = subdir+\"/\"+file\n",
    "            old_file = open(f, \"r\")\n",
    "            lines = old_file.read().split(\"\\n\")\n",
    "            old_file.close()\n",
    "            print(lines[16])\n",
    "            \n",
    "            lines[16] = \"600.\"\n",
    "            \n",
    "\n",
    "            new_file_string = \"\\n\".join(lines)\n",
    "            os.remove(f)\n",
    "            new_file = open(f,\"w\")\n",
    "            new_file.write(new_file_string)\n",
    "            new_file.close()\n",
    "#     for dir in dirs:\n",
    "#         if dir in ['spin_current', 'output']:\n",
    "#             rm_dir_list.append(subdir+\"/\"+dir)\n",
    "    \n",
    "#     for file in files:\n",
    "#         if file[:5] in ['slurm', 'oput.', 'flux.', 'magne']:\n",
    "#             rm_file_list.append(subdir+\"/\"+file)\n",
    "# print(rm_dir_list)\n",
    "\n",
    "# for file in rm_file_list:\n",
    "#     os.remove(file)\n"
   ]
  },
  {
   "cell_type": "code",
   "execution_count": 13,
   "id": "suspected-output",
   "metadata": {},
   "outputs": [
    {
     "name": "stdout",
     "output_type": "stream",
     "text": [
      "74\n",
      "['W5-4-L100', 'W4-5-L100', 'W5-5-L60', 'W6-3-L60', 'W5-5-L100', 'W4-6-L30', 'W3-5-L100', 'W3-6-L60', 'W5-4-L60', 'W5-5-L30', 'W5-6-L60', 'W4-5-L30', 'W4-4-L100', 'W4-4-L30', 'W6-5-L60', 'W3-5-L30', 'W5-6-L30', 'W6-3-L30', 'W6-5-L100', 'W5-3-L60', 'W6-5-L30', 'W4-6-L60', 'W5-6-L100', 'W4-4-L60', 'W6-6-L100', 'W5-3-L100', 'W3-5-L60', 'W6-4-L100', 'W6-3-L100', 'W5-3-L30', 'W6-6-L60', 'W3-6-L100', 'W6-4-L30', 'W4-6-L100', 'W3-6-L30', 'W6-6-L30', 'W4-5-L60', 'W5-4-L30', 'W6-4-L60']\n",
      "['W5-2-L100', 'W6-2-L100', 'W5-2-L30', 'W2-6-L60', 'W2-6-L30', 'W2-5-L30', 'W2-5-L100', 'W3-4-L60', 'W5-2-L60', 'W2-4-L100', 'W4-3-L30', 'W4-2-L100', 'W3-3-L30', 'W2-6-L100', 'W4-2-L30', 'W2-2-L30', 'W2-2-L100', 'W4-3-L100', 'W3-2-L30', 'W4-3-L60', 'W3-3-L60', 'W6-2-L30', 'W4-2-L60', 'W3-2-L60', 'W6-2-L60', 'W2-2-L60', 'W3-4-L100', 'W2-4-L60', 'W2-3-L30', 'W2-3-L100', 'W2-4-L30', 'W3-3-L100', 'W2-5-L60', 'W3-2-L100', 'W3-4-L30']\n"
     ]
    }
   ],
   "source": [
    "folder_rootdir = '/home/hjaleta/spin_project/Results - Spin Current/FuPt-closed/'\n",
    "new_folder_rootdir = '/home/hjaleta/spin_project/simulation2/FuPt-closed/'\n",
    "com, incom = check_flux(folder_rootdir, False, new_folder_rootdir)\n",
    "\n",
    "print(len(com)+len(incom))\n",
    "print(com)\n",
    "print(incom)\n",
    "# filename = \"flux.out\"\n",
    "\n",
    "# corrupted_folders, N_folders = check_folders(folder_rootdir, filename)\n",
    "# print(corrupted_folders)"
   ]
  },
  {
   "cell_type": "code",
   "execution_count": null,
   "id": "phantom-substitute",
   "metadata": {},
   "outputs": [],
   "source": [
    "param_source = \"input_params.py\"\n",
    "param_target =\"input_params_new.py\"\n",
    "z = (3,3)\n",
    "spin_flux_path = \"datadata/FePt_bilayer-open/flux.out\""
   ]
  },
  {
   "cell_type": "code",
   "execution_count": null,
   "id": "tired-tractor",
   "metadata": {},
   "outputs": [],
   "source": [
    "ext = \"Zone.Identifier\"\n",
    "delete_filetype(folder_rootdir, ext)"
   ]
  },
  {
   "cell_type": "code",
   "execution_count": null,
   "id": "accepting-episode",
   "metadata": {},
   "outputs": [],
   "source": []
  },
  {
   "cell_type": "code",
   "execution_count": null,
   "id": "rational-ceremony",
   "metadata": {},
   "outputs": [],
   "source": [
    "ext = \"Zone.Identifier\"\n",
    "parent_dir = \"/home/hjaleta/spin_project/Results - Spin Current/FuPt-closed/\"\n",
    "delete_filetype(folder_rootdir, ext)"
   ]
  },
  {
   "cell_type": "code",
   "execution_count": null,
   "id": "raising-financing",
   "metadata": {},
   "outputs": [],
   "source": []
  }
 ],
 "metadata": {
  "kernelspec": {
   "display_name": "Python 3",
   "language": "python",
   "name": "python3"
  },
  "language_info": {
   "codemirror_mode": {
    "name": "ipython",
    "version": 3
   },
   "file_extension": ".py",
   "mimetype": "text/x-python",
   "name": "python",
   "nbconvert_exporter": "python",
   "pygments_lexer": "ipython3",
   "version": "3.8.5"
  }
 },
 "nbformat": 4,
 "nbformat_minor": 5
}
