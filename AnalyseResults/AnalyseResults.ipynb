{
 "cells": [
  {
   "cell_type": "code",
   "execution_count": null,
   "metadata": {},
   "outputs": [],
   "source": [
    "import json\n",
    "import os\n",
    "import sys\n",
    "cwd = os.getcwd()\n",
    "sys.path.append(cwd[:-15])\n",
    "\n",
    "from Frequency.Broadband import Signal"
   ]
  },
  {
   "cell_type": "code",
   "execution_count": 11,
   "metadata": {},
   "outputs": [
    {
     "name": "stdout",
     "output_type": "stream",
     "text": [
      "/home/hjaleta/spin_project\n"
     ]
    }
   ],
   "source": [
    "\n"
   ]
  },
  {
   "cell_type": "code",
   "execution_count": null,
   "metadata": {},
   "outputs": [],
   "source": [
    "cwd = os.getcwd()\n",
    "\n",
    "all_results_path = cwd[:-14] + \"Full Simulation/Simulation Results/FuPt-closed/\" \n",
    "\n",
    "data_dicts = []\n",
    "param_pattern = r\"W\\d-\\d-L\\d{2,3}\"\n",
    "\n",
    "for dirpath, dirs, files in os.walk(all_results_path):\n",
    "    # print(dirpath)\n",
    "    for f in files:\n",
    "        if f[-4:] == \"json\":\n",
    "            f_path = dirpath + \"/\" + f\n",
    "            \n",
    "            with open(f_path, \"r\") as j_object:\n",
    "                results = json.load(j_object)\n",
    "            \n",
    "\n",
    "            "
   ]
  },
  {
   "cell_type": "code",
   "execution_count": null,
   "metadata": {},
   "outputs": [],
   "source": [
    "signal_params = {\"padfactor\":9, \"n_interpol\":1, \"dt\":1, \"bb_fraction\": 10}"
   ]
  },
  {
   "cell_type": "code",
   "execution_count": null,
   "metadata": {},
   "outputs": [],
   "source": [
    "for E in sim.vacuum.E_fields:\n",
    "            # print(E.Ex)\n",
    "            signal = Signal(E.Ex, signal_params, E.z, sim.name)\n",
    "            filepath = \"/\".join([result_folderpath, f\"Signal z = {E.z:.2E} nm \"])\n",
    "            fourier_plot_path = filepath + \"spectra.png\"\n",
    "            BW_plot_path = filepath + \"BW.png\"\n",
    "            transient_plot_path = filepath + \"transient.png\"\n",
    "            json_path = filepath + \"data.json\"\n",
    "            signal.plot_BW(BW_plot_path)\n",
    "            signal.plot_signal(transient_plot_path)\n",
    "            signal.plot_fourier(fourier_plot_path)\n",
    "            signal.export_json(json_path)"
   ]
  }
 ],
 "metadata": {
  "interpreter": {
   "hash": "916dbcbb3f70747c44a77c7bcd40155683ae19c65e1c03b4aa3499c5328201f1"
  },
  "kernelspec": {
   "display_name": "Python 3.8.10 64-bit",
   "language": "python",
   "name": "python3"
  },
  "language_info": {
   "codemirror_mode": {
    "name": "ipython",
    "version": 3
   },
   "file_extension": ".py",
   "mimetype": "text/x-python",
   "name": "python",
   "nbconvert_exporter": "python",
   "pygments_lexer": "ipython3",
   "version": "3.8.10"
  },
  "orig_nbformat": 4
 },
 "nbformat": 4,
 "nbformat_minor": 2
}
