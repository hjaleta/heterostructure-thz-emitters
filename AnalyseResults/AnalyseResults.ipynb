{
 "cells": [
  {
   "cell_type": "code",
   "execution_count": 5,
   "metadata": {},
   "outputs": [],
   "source": [
    "import json\n",
    "import os\n",
    "import sys"
   ]
  },
  {
   "cell_type": "code",
   "execution_count": 23,
   "metadata": {},
   "outputs": [
    {
     "name": "stdout",
     "output_type": "stream",
     "text": [
      "/home/hjaleta/spin_project/Full Simulation/Simulation Results/FuPt-closed/W5-2-L100/Signal z = 1.00E+08 nm data.json\n",
      "/home/hjaleta/spin_project/Full Simulation/Simulation Results/FuPt-closed/W5-4-L100/Signal z = 1.00E+08 nm data.json\n",
      "/home/hjaleta/spin_project/Full Simulation/Simulation Results/FuPt-closed/W6-2-L100/Signal z = 1.00E+08 nm data.json\n",
      "/home/hjaleta/spin_project/Full Simulation/Simulation Results/FuPt-closed/W5-2-L30/Signal z = 1.00E+08 nm data.json\n",
      "/home/hjaleta/spin_project/Full Simulation/Simulation Results/FuPt-closed/W4-5-L100/Signal z = 1.00E+08 nm data.json\n",
      "/home/hjaleta/spin_project/Full Simulation/Simulation Results/FuPt-closed/W2-6-L60/Signal z = 1.00E+08 nm data.json\n",
      "/home/hjaleta/spin_project/Full Simulation/Simulation Results/FuPt-closed/W2-6-L30/Signal z = 1.00E+08 nm data.json\n",
      "/home/hjaleta/spin_project/Full Simulation/Simulation Results/FuPt-closed/W5-5-L60/Signal z = 1.00E+08 nm data.json\n",
      "/home/hjaleta/spin_project/Full Simulation/Simulation Results/FuPt-closed/W6-3-L60/Signal z = 1.00E+08 nm data.json\n",
      "/home/hjaleta/spin_project/Full Simulation/Simulation Results/FuPt-closed/W2-5-L30/Signal z = 1.00E+08 nm data.json\n",
      "/home/hjaleta/spin_project/Full Simulation/Simulation Results/FuPt-closed/W2-5-L100/Signal z = 1.00E+08 nm data.json\n",
      "/home/hjaleta/spin_project/Full Simulation/Simulation Results/FuPt-closed/W3-4-L60/Signal z = 1.00E+08 nm data.json\n",
      "/home/hjaleta/spin_project/Full Simulation/Simulation Results/FuPt-closed/W5-2-L60/Signal z = 1.00E+08 nm data.json\n",
      "/home/hjaleta/spin_project/Full Simulation/Simulation Results/FuPt-closed/W2-4-L100/Signal z = 1.00E+08 nm data.json\n",
      "/home/hjaleta/spin_project/Full Simulation/Simulation Results/FuPt-closed/W5-5-L100/Signal z = 1.00E+08 nm data.json\n",
      "/home/hjaleta/spin_project/Full Simulation/Simulation Results/FuPt-closed/W4-6-L30/Signal z = 1.00E+08 nm data.json\n",
      "/home/hjaleta/spin_project/Full Simulation/Simulation Results/FuPt-closed/W3-5-L100/Signal z = 1.00E+08 nm data.json\n",
      "/home/hjaleta/spin_project/Full Simulation/Simulation Results/FuPt-closed/W4-3-L30/Signal z = 1.00E+08 nm data.json\n",
      "/home/hjaleta/spin_project/Full Simulation/Simulation Results/FuPt-closed/W3-6-L60/Signal z = 1.00E+08 nm data.json\n",
      "/home/hjaleta/spin_project/Full Simulation/Simulation Results/FuPt-closed/W5-4-L60/Signal z = 1.00E+08 nm data.json\n",
      "/home/hjaleta/spin_project/Full Simulation/Simulation Results/FuPt-closed/W5-5-L30/Signal z = 1.00E+08 nm data.json\n",
      "/home/hjaleta/spin_project/Full Simulation/Simulation Results/FuPt-closed/W5-6-L60/Signal z = 1.00E+08 nm data.json\n",
      "/home/hjaleta/spin_project/Full Simulation/Simulation Results/FuPt-closed/W4-5-L30/Signal z = 1.00E+08 nm data.json\n",
      "/home/hjaleta/spin_project/Full Simulation/Simulation Results/FuPt-closed/W4-2-L100/Signal z = 1.00E+08 nm data.json\n",
      "/home/hjaleta/spin_project/Full Simulation/Simulation Results/FuPt-closed/W4-4-L100/Signal z = 1.00E+08 nm data.json\n",
      "/home/hjaleta/spin_project/Full Simulation/Simulation Results/FuPt-closed/W3-3-L30/Signal z = 1.00E+08 nm data.json\n",
      "/home/hjaleta/spin_project/Full Simulation/Simulation Results/FuPt-closed/W2-6-L100/Signal z = 1.00E+08 nm data.json\n",
      "/home/hjaleta/spin_project/Full Simulation/Simulation Results/FuPt-closed/W4-4-L30/Signal z = 1.00E+08 nm data.json\n",
      "/home/hjaleta/spin_project/Full Simulation/Simulation Results/FuPt-closed/W6-5-L60/Signal z = 1.00E+08 nm data.json\n",
      "/home/hjaleta/spin_project/Full Simulation/Simulation Results/FuPt-closed/W3-5-L30/Signal z = 1.00E+08 nm data.json\n",
      "/home/hjaleta/spin_project/Full Simulation/Simulation Results/FuPt-closed/W4-2-L30/Signal z = 1.00E+08 nm data.json\n",
      "/home/hjaleta/spin_project/Full Simulation/Simulation Results/FuPt-closed/W5-6-L30/Signal z = 1.00E+08 nm data.json\n",
      "/home/hjaleta/spin_project/Full Simulation/Simulation Results/FuPt-closed/W6-3-L30/Signal z = 1.00E+08 nm data.json\n",
      "/home/hjaleta/spin_project/Full Simulation/Simulation Results/FuPt-closed/W2-3-L60/Signal z = 1.00E+08 nm data.json\n",
      "/home/hjaleta/spin_project/Full Simulation/Simulation Results/FuPt-closed/W6-5-L100/Signal z = 1.00E+08 nm data.json\n",
      "/home/hjaleta/spin_project/Full Simulation/Simulation Results/FuPt-closed/W5-3-L60/Signal z = 1.00E+08 nm data.json\n",
      "/home/hjaleta/spin_project/Full Simulation/Simulation Results/FuPt-closed/W6-5-L30/Signal z = 1.00E+08 nm data.json\n",
      "/home/hjaleta/spin_project/Full Simulation/Simulation Results/FuPt-closed/W4-3-L100/Signal z = 1.00E+08 nm data.json\n",
      "/home/hjaleta/spin_project/Full Simulation/Simulation Results/FuPt-closed/W3-2-L30/Signal z = 1.00E+08 nm data.json\n",
      "/home/hjaleta/spin_project/Full Simulation/Simulation Results/FuPt-closed/W4-3-L60/Signal z = 1.00E+08 nm data.json\n",
      "/home/hjaleta/spin_project/Full Simulation/Simulation Results/FuPt-closed/W4-6-L60/Signal z = 1.00E+08 nm data.json\n",
      "/home/hjaleta/spin_project/Full Simulation/Simulation Results/FuPt-closed/W3-3-L60/Signal z = 1.00E+08 nm data.json\n",
      "/home/hjaleta/spin_project/Full Simulation/Simulation Results/FuPt-closed/W5-6-L100/Signal z = 1.00E+08 nm data.json\n",
      "/home/hjaleta/spin_project/Full Simulation/Simulation Results/FuPt-closed/W6-2-L30/Signal z = 1.00E+08 nm data.json\n",
      "/home/hjaleta/spin_project/Full Simulation/Simulation Results/FuPt-closed/W4-2-L60/Signal z = 1.00E+08 nm data.json\n",
      "/home/hjaleta/spin_project/Full Simulation/Simulation Results/FuPt-closed/W4-4-L60/Signal z = 1.00E+08 nm data.json\n",
      "/home/hjaleta/spin_project/Full Simulation/Simulation Results/FuPt-closed/W3-2-L60/Signal z = 1.00E+08 nm data.json\n",
      "/home/hjaleta/spin_project/Full Simulation/Simulation Results/FuPt-closed/W6-6-L100/Signal z = 1.00E+08 nm data.json\n",
      "/home/hjaleta/spin_project/Full Simulation/Simulation Results/FuPt-closed/W6-2-L60/Signal z = 1.00E+08 nm data.json\n",
      "/home/hjaleta/spin_project/Full Simulation/Simulation Results/FuPt-closed/W5-3-L100/Signal z = 1.00E+08 nm data.json\n",
      "/home/hjaleta/spin_project/Full Simulation/Simulation Results/FuPt-closed/W3-4-L100/Signal z = 1.00E+08 nm data.json\n",
      "/home/hjaleta/spin_project/Full Simulation/Simulation Results/FuPt-closed/W3-5-L60/Signal z = 1.00E+08 nm data.json\n",
      "/home/hjaleta/spin_project/Full Simulation/Simulation Results/FuPt-closed/W6-4-L100/Signal z = 1.00E+08 nm data.json\n",
      "/home/hjaleta/spin_project/Full Simulation/Simulation Results/FuPt-closed/W2-4-L60/Signal z = 1.00E+08 nm data.json\n",
      "/home/hjaleta/spin_project/Full Simulation/Simulation Results/FuPt-closed/W6-3-L100/Signal z = 1.00E+08 nm data.json\n",
      "/home/hjaleta/spin_project/Full Simulation/Simulation Results/FuPt-closed/W5-3-L30/Signal z = 1.00E+08 nm data.json\n",
      "/home/hjaleta/spin_project/Full Simulation/Simulation Results/FuPt-closed/W6-6-L60/Signal z = 1.00E+08 nm data.json\n",
      "/home/hjaleta/spin_project/Full Simulation/Simulation Results/FuPt-closed/W2-3-L30/Signal z = 1.00E+08 nm data.json\n",
      "/home/hjaleta/spin_project/Full Simulation/Simulation Results/FuPt-closed/W2-3-L100/Signal z = 1.00E+08 nm data.json\n",
      "/home/hjaleta/spin_project/Full Simulation/Simulation Results/FuPt-closed/W3-6-L100/Signal z = 1.00E+08 nm data.json\n",
      "/home/hjaleta/spin_project/Full Simulation/Simulation Results/FuPt-closed/W6-4-L30/Signal z = 1.00E+08 nm data.json\n",
      "/home/hjaleta/spin_project/Full Simulation/Simulation Results/FuPt-closed/W2-4-L30/Signal z = 1.00E+08 nm data.json\n",
      "/home/hjaleta/spin_project/Full Simulation/Simulation Results/FuPt-closed/W4-6-L100/Signal z = 1.00E+08 nm data.json\n",
      "/home/hjaleta/spin_project/Full Simulation/Simulation Results/FuPt-closed/W3-3-L100/Signal z = 1.00E+08 nm data.json\n",
      "/home/hjaleta/spin_project/Full Simulation/Simulation Results/FuPt-closed/W2-5-L60/Signal z = 1.00E+08 nm data.json\n",
      "/home/hjaleta/spin_project/Full Simulation/Simulation Results/FuPt-closed/W3-2-L100/Signal z = 1.00E+08 nm data.json\n",
      "/home/hjaleta/spin_project/Full Simulation/Simulation Results/FuPt-closed/W3-6-L30/Signal z = 1.00E+08 nm data.json\n",
      "/home/hjaleta/spin_project/Full Simulation/Simulation Results/FuPt-closed/W6-6-L30/Signal z = 1.00E+08 nm data.json\n",
      "/home/hjaleta/spin_project/Full Simulation/Simulation Results/FuPt-closed/W4-5-L60/Signal z = 1.00E+08 nm data.json\n",
      "/home/hjaleta/spin_project/Full Simulation/Simulation Results/FuPt-closed/W3-4-L30/Signal z = 1.00E+08 nm data.json\n",
      "/home/hjaleta/spin_project/Full Simulation/Simulation Results/FuPt-closed/W5-4-L30/Signal z = 1.00E+08 nm data.json\n",
      "/home/hjaleta/spin_project/Full Simulation/Simulation Results/FuPt-closed/W6-4-L60/Signal z = 1.00E+08 nm data.json\n"
     ]
    }
   ],
   "source": [
    "cwd = os.getcwd()\n",
    "all_results_path = cwd[:-14] + \"Full Simulation/Simulation Results/FuPt-closed/\" \n",
    "\n",
    "data_dicts = []\n",
    "\n",
    "for dirpath, dirs, files in os.walk(all_results_path):\n",
    "    # print(dirpath)\n",
    "    for f in files:\n",
    "        if f[-4:] == \"json\":\n",
    "            f_path = dirpath + \"/\" + f\n",
    "            \n",
    "\n",
    "            "
   ]
  }
 ],
 "metadata": {
  "interpreter": {
   "hash": "916dbcbb3f70747c44a77c7bcd40155683ae19c65e1c03b4aa3499c5328201f1"
  },
  "kernelspec": {
   "display_name": "Python 3.8.10 64-bit",
   "language": "python",
   "name": "python3"
  },
  "language_info": {
   "codemirror_mode": {
    "name": "ipython",
    "version": 3
   },
   "file_extension": ".py",
   "mimetype": "text/x-python",
   "name": "python",
   "nbconvert_exporter": "python",
   "pygments_lexer": "ipython3",
   "version": "3.8.10"
  },
  "orig_nbformat": 4
 },
 "nbformat": 4,
 "nbformat_minor": 2
}
