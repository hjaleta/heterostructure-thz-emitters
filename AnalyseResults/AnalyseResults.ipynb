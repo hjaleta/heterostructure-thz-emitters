{
 "cells": [
  {
   "cell_type": "code",
   "execution_count": 1,
   "metadata": {},
   "outputs": [],
   "source": [
    "import json\n",
    "import os\n",
    "import sys\n",
    "cwd = os.getcwd()\n",
    "sys.path.append(cwd[:-15])\n",
    "\n",
    "from Frequency.Broadband import Signal\n",
    "import numpy as np\n",
    "import pandas as pd\n",
    "import re\n"
   ]
  },
  {
   "cell_type": "code",
   "execution_count": 2,
   "metadata": {},
   "outputs": [],
   "source": [
    "from sklearn.linear_model import LinearRegression\n",
    "from sklearn import preprocessing"
   ]
  },
  {
   "cell_type": "code",
   "execution_count": 3,
   "metadata": {},
   "outputs": [
    {
     "name": "stdout",
     "output_type": "stream",
     "text": [
      "   Signal Bandwidth [THz] Width Iron [nm] Width Platinum [nm]  \\\n",
      "0                8.833333               5                   2   \n",
      "1                8.666667               5                   4   \n",
      "2                8.833333               6                   2   \n",
      "3               27.833333               5                   2   \n",
      "4                8.833333               4                   5   \n",
      "\n",
      "  Laser Pulse Time [fs]  \n",
      "0                   100  \n",
      "1                   100  \n",
      "2                   100  \n",
      "3                    30  \n",
      "4                   100  \n"
     ]
    }
   ],
   "source": [
    "\n",
    "cwd = os.getcwd()\n",
    "\n",
    "all_results_path = cwd[:-14] + \"Full Simulation/Simulation Results/FuPt-closed/\" \n",
    "\n",
    "data_dict = {\"Signal Bandwidth [THz]\": [], \"Width Iron [nm]\":[], \"Width Platinum [nm]\":[], \"Laser Pulse Time [fs]\": []}\n",
    "\n",
    "num_pattern = r\"W(\\d)-(\\d)-L(\\d*)\"\n",
    "\n",
    "for dirpath, dirs, files in os.walk(all_results_path):\n",
    "    # print(dirpath)\n",
    "    for f in files:\n",
    "        if f[-4:] == \"json\":\n",
    "            f_path = dirpath + \"/\" + f\n",
    "            \n",
    "            with open(f_path, \"r\") as j_object:\n",
    "                results = json.load(j_object)\n",
    "            m = re.search(num_pattern, results[\"name\"])\n",
    "            # print(results[\"name\"])#, match[1], match[2])\n",
    "            W1, W2, L = m.group(1,2,3)\n",
    "            BW = results[\"broadband\"]\n",
    "            data_dict[\"Signal Bandwidth [THz]\"].append(BW)\n",
    "            data_dict[\"Width Iron [nm]\"].append(W1)\n",
    "            data_dict[\"Width Platinum [nm]\"].append(W2)\n",
    "            data_dict[\"Laser Pulse Time [fs]\"].append(L)\n",
    "            \n",
    "df = pd.DataFrame.from_dict(data_dict)\n",
    "print(df.head())"
   ]
  },
  {
   "cell_type": "code",
   "execution_count": 4,
   "metadata": {},
   "outputs": [
    {
     "name": "stdout",
     "output_type": "stream",
     "text": [
      "[[  8.83333333   5.           2.         100.        ]\n",
      " [  8.66666667   5.           4.         100.        ]\n",
      " [  8.83333333   6.           2.         100.        ]\n",
      " [ 27.83333333   5.           2.          30.        ]\n",
      " [  8.83333333   4.           5.         100.        ]\n",
      " [ 14.5          2.           6.          60.        ]\n",
      " [ 27.5          2.           6.          30.        ]\n",
      " [ 13.5          5.           5.          60.        ]\n",
      " [ 14.16666667   6.           3.          60.        ]\n",
      " [ 27.           2.           5.          30.        ]\n",
      " [  9.5          2.           5.         100.        ]\n",
      " [ 14.5          3.           4.          60.        ]\n",
      " [ 14.5          5.           2.          60.        ]\n",
      " [  9.66666667   2.           4.         100.        ]\n",
      " [  8.66666667   5.           5.         100.        ]\n",
      " [ 25.83333333   4.           6.          30.        ]\n",
      " [  9.           3.           5.         100.        ]\n",
      " [ 26.5          4.           3.          30.        ]\n",
      " [ 14.16666667   3.           6.          60.        ]\n",
      " [ 13.83333333   5.           4.          60.        ]\n",
      " [ 24.83333333   5.           5.          30.        ]\n",
      " [ 13.5          5.           6.          60.        ]\n",
      " [ 25.33333333   4.           5.          30.        ]\n",
      " [  9.           4.           2.         100.        ]\n",
      " [  8.83333333   4.           4.         100.        ]\n",
      " [ 27.16666667   3.           3.          30.        ]\n",
      " [  9.5          2.           6.         100.        ]\n",
      " [ 25.5          4.           4.          30.        ]\n",
      " [ 13.33333333   6.           5.          60.        ]\n",
      " [ 26.           3.           5.          30.        ]\n",
      " [ 28.           4.           2.          30.        ]\n",
      " [ 25.33333333   5.           6.          30.        ]\n",
      " [ 26.           6.           3.          30.        ]\n",
      " [ 15.33333333   2.           3.          60.        ]\n",
      " [  8.5          6.           5.         100.        ]\n",
      " [ 14.33333333   5.           3.          60.        ]\n",
      " [ 24.66666667   6.           5.          30.        ]\n",
      " [  9.           4.           3.         100.        ]\n",
      " [ 28.66666667   3.           2.          30.        ]\n",
      " [ 14.5          4.           3.          60.        ]\n",
      " [ 13.66666667   4.           6.          60.        ]\n",
      " [ 14.83333333   3.           3.          60.        ]\n",
      " [  8.5          5.           6.         100.        ]\n",
      " [ 27.83333333   6.           2.          30.        ]\n",
      " [ 14.66666667   4.           2.          60.        ]\n",
      " [ 14.16666667   4.           4.          60.        ]\n",
      " [ 15.16666667   3.           2.          60.        ]\n",
      " [  8.5          6.           6.         100.        ]\n",
      " [ 14.33333333   6.           2.          60.        ]\n",
      " [  8.83333333   5.           3.         100.        ]\n",
      " [  9.16666667   3.           4.         100.        ]\n",
      " [ 14.16666667   3.           5.          60.        ]\n",
      " [  8.66666667   6.           4.         100.        ]\n",
      " [ 15.           2.           4.          60.        ]\n",
      " [  8.66666667   6.           3.         100.        ]\n",
      " [ 26.16666667   5.           3.          30.        ]\n",
      " [ 13.33333333   6.           6.          60.        ]\n",
      " [ 28.16666667   2.           3.          30.        ]\n",
      " [  9.66666667   2.           3.         100.        ]\n",
      " [  9.           3.           6.         100.        ]\n",
      " [ 25.16666667   6.           4.          30.        ]\n",
      " [ 27.33333333   2.           4.          30.        ]\n",
      " [  8.66666667   4.           6.         100.        ]\n",
      " [  9.16666667   3.           3.         100.        ]\n",
      " [ 14.66666667   2.           5.          60.        ]\n",
      " [  9.16666667   3.           2.         100.        ]\n",
      " [ 26.66666667   3.           6.          30.        ]\n",
      " [ 25.33333333   6.           6.          30.        ]\n",
      " [ 13.83333333   4.           5.          60.        ]\n",
      " [ 26.33333333   3.           4.          30.        ]\n",
      " [ 25.16666667   5.           4.          30.        ]\n",
      " [ 13.66666667   6.           4.          60.        ]]\n"
     ]
    }
   ],
   "source": [
    "arr = df.to_numpy(dtype=np.float64)\n",
    "print(arr)"
   ]
  },
  {
   "cell_type": "code",
   "execution_count": 5,
   "metadata": {},
   "outputs": [],
   "source": [
    "Y = arr[:,0].reshape(-1,1)\n",
    "X = arr[:,1:]"
   ]
  },
  {
   "cell_type": "code",
   "execution_count": 6,
   "metadata": {},
   "outputs": [],
   "source": [
    "sorted_df = df.sort_values([\"Signal Bandwidth [THz]\"], ignore_index=True, ascending=False)\n",
    "sorted_df.index = range(1, len(sorted_df)+1)\n",
    "# sorted_df = sorted_df.astype(float)"
   ]
  },
  {
   "cell_type": "code",
   "execution_count": 98,
   "metadata": {},
   "outputs": [
    {
     "data": {
      "text/html": [
       "<div>\n",
       "<style scoped>\n",
       "    .dataframe tbody tr th:only-of-type {\n",
       "        vertical-align: middle;\n",
       "    }\n",
       "\n",
       "    .dataframe tbody tr th {\n",
       "        vertical-align: top;\n",
       "    }\n",
       "\n",
       "    .dataframe thead th {\n",
       "        text-align: right;\n",
       "    }\n",
       "</style>\n",
       "<table border=\"1\" class=\"dataframe\">\n",
       "  <thead>\n",
       "    <tr style=\"text-align: right;\">\n",
       "      <th></th>\n",
       "      <th>Signal Bandwidth [THz]</th>\n",
       "      <th>Width Iron [nm]</th>\n",
       "      <th>Width Platinum [nm]</th>\n",
       "      <th>Laser Pulse Time [fs]</th>\n",
       "    </tr>\n",
       "  </thead>\n",
       "  <tbody>\n",
       "    <tr>\n",
       "      <th>1</th>\n",
       "      <td>28.666667</td>\n",
       "      <td>3.0</td>\n",
       "      <td>2.0</td>\n",
       "      <td>30.0</td>\n",
       "    </tr>\n",
       "    <tr>\n",
       "      <th>2</th>\n",
       "      <td>28.166667</td>\n",
       "      <td>2.0</td>\n",
       "      <td>3.0</td>\n",
       "      <td>30.0</td>\n",
       "    </tr>\n",
       "    <tr>\n",
       "      <th>3</th>\n",
       "      <td>28.000000</td>\n",
       "      <td>4.0</td>\n",
       "      <td>2.0</td>\n",
       "      <td>30.0</td>\n",
       "    </tr>\n",
       "    <tr>\n",
       "      <th>4</th>\n",
       "      <td>27.833333</td>\n",
       "      <td>6.0</td>\n",
       "      <td>2.0</td>\n",
       "      <td>30.0</td>\n",
       "    </tr>\n",
       "    <tr>\n",
       "      <th>5</th>\n",
       "      <td>27.833333</td>\n",
       "      <td>5.0</td>\n",
       "      <td>2.0</td>\n",
       "      <td>30.0</td>\n",
       "    </tr>\n",
       "    <tr>\n",
       "      <th>...</th>\n",
       "      <td>...</td>\n",
       "      <td>...</td>\n",
       "      <td>...</td>\n",
       "      <td>...</td>\n",
       "    </tr>\n",
       "    <tr>\n",
       "      <th>68</th>\n",
       "      <td>8.666667</td>\n",
       "      <td>6.0</td>\n",
       "      <td>4.0</td>\n",
       "      <td>100.0</td>\n",
       "    </tr>\n",
       "    <tr>\n",
       "      <th>69</th>\n",
       "      <td>8.666667</td>\n",
       "      <td>5.0</td>\n",
       "      <td>4.0</td>\n",
       "      <td>100.0</td>\n",
       "    </tr>\n",
       "    <tr>\n",
       "      <th>70</th>\n",
       "      <td>8.500000</td>\n",
       "      <td>6.0</td>\n",
       "      <td>5.0</td>\n",
       "      <td>100.0</td>\n",
       "    </tr>\n",
       "    <tr>\n",
       "      <th>71</th>\n",
       "      <td>8.500000</td>\n",
       "      <td>6.0</td>\n",
       "      <td>6.0</td>\n",
       "      <td>100.0</td>\n",
       "    </tr>\n",
       "    <tr>\n",
       "      <th>72</th>\n",
       "      <td>8.500000</td>\n",
       "      <td>5.0</td>\n",
       "      <td>6.0</td>\n",
       "      <td>100.0</td>\n",
       "    </tr>\n",
       "  </tbody>\n",
       "</table>\n",
       "<p>72 rows × 4 columns</p>\n",
       "</div>"
      ],
      "text/plain": [
       "    Signal Bandwidth [THz]  Width Iron [nm]  Width Platinum [nm]  \\\n",
       "1                28.666667              3.0                  2.0   \n",
       "2                28.166667              2.0                  3.0   \n",
       "3                28.000000              4.0                  2.0   \n",
       "4                27.833333              6.0                  2.0   \n",
       "5                27.833333              5.0                  2.0   \n",
       "..                     ...              ...                  ...   \n",
       "68                8.666667              6.0                  4.0   \n",
       "69                8.666667              5.0                  4.0   \n",
       "70                8.500000              6.0                  5.0   \n",
       "71                8.500000              6.0                  6.0   \n",
       "72                8.500000              5.0                  6.0   \n",
       "\n",
       "    Laser Pulse Time [fs]  \n",
       "1                    30.0  \n",
       "2                    30.0  \n",
       "3                    30.0  \n",
       "4                    30.0  \n",
       "5                    30.0  \n",
       "..                    ...  \n",
       "68                  100.0  \n",
       "69                  100.0  \n",
       "70                  100.0  \n",
       "71                  100.0  \n",
       "72                  100.0  \n",
       "\n",
       "[72 rows x 4 columns]"
      ]
     },
     "execution_count": 98,
     "metadata": {},
     "output_type": "execute_result"
    }
   ],
   "source": [
    "sorted_df.head(72)"
   ]
  },
  {
   "cell_type": "code",
   "execution_count": 8,
   "metadata": {},
   "outputs": [],
   "source": [
    "sorted_df.to_csv(\"/home/hjaleta/spin_project/AnalyseResults/Sorted Table of Bandwidths2.csv\", float_format= '%.1f')"
   ]
  },
  {
   "cell_type": "code",
   "execution_count": null,
   "metadata": {},
   "outputs": [],
   "source": [
    "cwd = os.getcwd()\n",
    "print(cwd)"
   ]
  },
  {
   "cell_type": "code",
   "execution_count": null,
   "metadata": {},
   "outputs": [],
   "source": [
    "scaler = preprocessing.StandardScaler().fit(X_ct)"
   ]
  },
  {
   "cell_type": "code",
   "execution_count": null,
   "metadata": {},
   "outputs": [],
   "source": [
    "X_ct_scaled = scaler.transform(X_ct)"
   ]
  },
  {
   "cell_type": "code",
   "execution_count": 68,
   "metadata": {},
   "outputs": [],
   "source": [
    "scaler2 = preprocessing.StandardScaler().fit(X)\n",
    "X_scaled = scaler2.transform(X)"
   ]
  },
  {
   "cell_type": "code",
   "execution_count": null,
   "metadata": {},
   "outputs": [],
   "source": [
    "print"
   ]
  },
  {
   "cell_type": "code",
   "execution_count": null,
   "metadata": {},
   "outputs": [],
   "source": [
    "print(X_ct_scaled)"
   ]
  },
  {
   "cell_type": "code",
   "execution_count": 64,
   "metadata": {},
   "outputs": [
    {
     "name": "stdout",
     "output_type": "stream",
     "text": [
      "(72,)\n",
      "-4.9343245538895844e-17\n"
     ]
    }
   ],
   "source": []
  },
  {
   "cell_type": "code",
   "execution_count": null,
   "metadata": {},
   "outputs": [],
   "source": [
    "print(Y)\n",
    "print(X)"
   ]
  },
  {
   "cell_type": "code",
   "execution_count": null,
   "metadata": {},
   "outputs": [],
   "source": [
    "BW = np.array(Y).reshape(-1,1)\n",
    "HS_params = np.array(X).reshape(-1,3)\n"
   ]
  },
  {
   "cell_type": "code",
   "execution_count": null,
   "metadata": {},
   "outputs": [],
   "source": [
    "print(HS_params[:,1])"
   ]
  },
  {
   "cell_type": "code",
   "execution_count": null,
   "metadata": {},
   "outputs": [],
   "source": [
    "cross_terms = []\n",
    "cross_terms.append(np.array(X[:,0]*X[:,1]))\n",
    "cross_terms.append(np.array(X[:,0]*X[:,2]))\n",
    "cross_terms.append(np.array(X[:,1]*X[:,2]))"
   ]
  },
  {
   "cell_type": "code",
   "execution_count": null,
   "metadata": {},
   "outputs": [],
   "source": [
    "ct = np.array(cross_terms).T"
   ]
  },
  {
   "cell_type": "code",
   "execution_count": null,
   "metadata": {},
   "outputs": [],
   "source": [
    "X_ct = np.concatenate((X,ct), axis=1)"
   ]
  },
  {
   "cell_type": "code",
   "execution_count": null,
   "metadata": {},
   "outputs": [],
   "source": [
    "print(X_ct.shape)\n",
    "print(X_ct)"
   ]
  },
  {
   "cell_type": "code",
   "execution_count": null,
   "metadata": {},
   "outputs": [],
   "source": [
    "print(cross_terms)"
   ]
  },
  {
   "cell_type": "code",
   "execution_count": 72,
   "metadata": {},
   "outputs": [],
   "source": [
    "l_ct = LinearRegression().fit(X_ct_scaled, Y)"
   ]
  },
  {
   "cell_type": "code",
   "execution_count": 73,
   "metadata": {},
   "outputs": [
    {
     "data": {
      "text/plain": [
       "array([[-0.56850422, -0.7502712 , -8.17769848, -0.31364188,  0.55500744,\n",
       "         0.99710311]])"
      ]
     },
     "execution_count": 73,
     "metadata": {},
     "output_type": "execute_result"
    }
   ],
   "source": [
    "l_ct.coef_"
   ]
  },
  {
   "cell_type": "code",
   "execution_count": 69,
   "metadata": {},
   "outputs": [],
   "source": [
    "l = LinearRegression().fit(X_scaled, Y)"
   ]
  },
  {
   "cell_type": "code",
   "execution_count": 71,
   "metadata": {},
   "outputs": [
    {
     "data": {
      "text/plain": [
       "array([[-0.47430805, -0.40060528, -6.97781833]])"
      ]
     },
     "execution_count": 71,
     "metadata": {},
     "output_type": "execute_result"
    }
   ],
   "source": [
    "l.coef_"
   ]
  },
  {
   "cell_type": "code",
   "execution_count": null,
   "metadata": {},
   "outputs": [],
   "source": [
    "print(BW.shape)\n",
    "print(HS_params.shape)"
   ]
  },
  {
   "cell_type": "code",
   "execution_count": null,
   "metadata": {},
   "outputs": [],
   "source": []
  }
 ],
 "metadata": {
  "interpreter": {
   "hash": "916dbcbb3f70747c44a77c7bcd40155683ae19c65e1c03b4aa3499c5328201f1"
  },
  "kernelspec": {
   "display_name": "Python 3.8.10 64-bit",
   "language": "python",
   "name": "python3"
  },
  "language_info": {
   "codemirror_mode": {
    "name": "ipython",
    "version": 3
   },
   "file_extension": ".py",
   "mimetype": "text/x-python",
   "name": "python",
   "nbconvert_exporter": "python",
   "pygments_lexer": "ipython3",
   "version": "3.8.10"
  },
  "orig_nbformat": 4
 },
 "nbformat": 4,
 "nbformat_minor": 2
}
