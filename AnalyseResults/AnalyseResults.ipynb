{
 "cells": [
  {
   "cell_type": "code",
   "execution_count": 11,
   "metadata": {},
   "outputs": [],
   "source": [
    "import json\n",
    "import os\n",
    "import sys\n",
    "cwd = os.getcwd()\n",
    "sys.path.append(cwd[:-15])\n",
    "import numpy as np\n",
    "import pandas as pd\n",
    "import re\n"
   ]
  },
  {
   "cell_type": "code",
   "execution_count": 12,
   "metadata": {},
   "outputs": [],
   "source": [
    "from sklearn.linear_model import LinearRegression\n",
    "from sklearn import preprocessing"
   ]
  },
  {
   "cell_type": "code",
   "execution_count": 13,
   "metadata": {},
   "outputs": [
    {
     "name": "stdout",
     "output_type": "stream",
     "text": [
      "   Signal Bandwidth [THz] Width Iron [nm] Width Platinum [nm]  \\\n",
      "0                8.833333               5                   2   \n",
      "1                8.666667               5                   4   \n",
      "2                8.833333               6                   2   \n",
      "3               27.833333               5                   2   \n",
      "4                8.833333               4                   5   \n",
      "\n",
      "  Laser Pulse Time [fs]  \n",
      "0                   100  \n",
      "1                   100  \n",
      "2                   100  \n",
      "3                    30  \n",
      "4                   100  \n"
     ]
    }
   ],
   "source": [
    "\n",
    "cwd = os.getcwd()\n",
    "\n",
    "all_results_path = cwd[:-14] + \"Full Simulation/Simulation Results/FuPt-closed/\" \n",
    "\n",
    "data_dict = {\"Signal Bandwidth [THz]\": [], \"Width Iron [nm]\":[], \"Width Platinum [nm]\":[], \"Laser Pulse Time [fs]\": []}\n",
    "\n",
    "num_pattern = r\"W(\\d)-(\\d)-L(\\d*)\"\n",
    "\n",
    "for dirpath, dirs, files in os.walk(all_results_path):\n",
    "    # print(dirpath)\n",
    "    for f in files:\n",
    "        if f[-4:] == \"json\":\n",
    "            f_path = dirpath + \"/\" + f\n",
    "            \n",
    "            with open(f_path, \"r\") as j_object:\n",
    "                results = json.load(j_object)\n",
    "            m = re.search(num_pattern, results[\"name\"])\n",
    "            # print(results[\"name\"])#, match[1], match[2])\n",
    "            W1, W2, L = m.group(1,2,3)\n",
    "            BW = results[\"broadband\"]\n",
    "            data_dict[\"Signal Bandwidth [THz]\"].append(BW)\n",
    "            data_dict[\"Width Iron [nm]\"].append(W1)\n",
    "            data_dict[\"Width Platinum [nm]\"].append(W2)\n",
    "            data_dict[\"Laser Pulse Time [fs]\"].append(L)\n",
    "            \n",
    "df = pd.DataFrame.from_dict(data_dict)\n",
    "print(df.head())"
   ]
  },
  {
   "cell_type": "code",
   "execution_count": 14,
   "metadata": {},
   "outputs": [
    {
     "name": "stdout",
     "output_type": "stream",
     "text": [
      "[[  8.83333333   5.           2.         100.        ]\n",
      " [  8.66666667   5.           4.         100.        ]\n",
      " [  8.83333333   6.           2.         100.        ]\n",
      " [ 27.83333333   5.           2.          30.        ]\n",
      " [  8.83333333   4.           5.         100.        ]\n",
      " [ 14.5          2.           6.          60.        ]\n",
      " [ 27.5          2.           6.          30.        ]\n",
      " [ 13.5          5.           5.          60.        ]\n",
      " [ 14.16666667   6.           3.          60.        ]\n",
      " [ 27.           2.           5.          30.        ]\n",
      " [  9.5          2.           5.         100.        ]\n",
      " [ 14.5          3.           4.          60.        ]\n",
      " [ 14.5          5.           2.          60.        ]\n",
      " [  9.66666667   2.           4.         100.        ]\n",
      " [  8.66666667   5.           5.         100.        ]\n",
      " [ 25.83333333   4.           6.          30.        ]\n",
      " [  9.           3.           5.         100.        ]\n",
      " [ 26.5          4.           3.          30.        ]\n",
      " [ 14.16666667   3.           6.          60.        ]\n",
      " [ 13.83333333   5.           4.          60.        ]\n",
      " [ 24.83333333   5.           5.          30.        ]\n",
      " [ 13.5          5.           6.          60.        ]\n",
      " [ 25.33333333   4.           5.          30.        ]\n",
      " [  9.           4.           2.         100.        ]\n",
      " [  8.83333333   4.           4.         100.        ]\n",
      " [ 27.16666667   3.           3.          30.        ]\n",
      " [  9.5          2.           6.         100.        ]\n",
      " [ 25.5          4.           4.          30.        ]\n",
      " [ 13.33333333   6.           5.          60.        ]\n",
      " [ 26.           3.           5.          30.        ]\n",
      " [ 28.           4.           2.          30.        ]\n",
      " [ 25.33333333   5.           6.          30.        ]\n",
      " [ 26.           6.           3.          30.        ]\n",
      " [ 15.33333333   2.           3.          60.        ]\n",
      " [  8.5          6.           5.         100.        ]\n",
      " [ 14.33333333   5.           3.          60.        ]\n",
      " [ 24.66666667   6.           5.          30.        ]\n",
      " [  9.           4.           3.         100.        ]\n",
      " [ 28.66666667   3.           2.          30.        ]\n",
      " [ 14.5          4.           3.          60.        ]\n",
      " [ 13.66666667   4.           6.          60.        ]\n",
      " [ 14.83333333   3.           3.          60.        ]\n",
      " [  8.5          5.           6.         100.        ]\n",
      " [ 27.83333333   6.           2.          30.        ]\n",
      " [ 14.66666667   4.           2.          60.        ]\n",
      " [ 14.16666667   4.           4.          60.        ]\n",
      " [ 15.16666667   3.           2.          60.        ]\n",
      " [  8.5          6.           6.         100.        ]\n",
      " [ 14.33333333   6.           2.          60.        ]\n",
      " [  8.83333333   5.           3.         100.        ]\n",
      " [  9.16666667   3.           4.         100.        ]\n",
      " [ 14.16666667   3.           5.          60.        ]\n",
      " [  8.66666667   6.           4.         100.        ]\n",
      " [ 15.           2.           4.          60.        ]\n",
      " [  8.66666667   6.           3.         100.        ]\n",
      " [ 26.16666667   5.           3.          30.        ]\n",
      " [ 13.33333333   6.           6.          60.        ]\n",
      " [ 28.16666667   2.           3.          30.        ]\n",
      " [  9.66666667   2.           3.         100.        ]\n",
      " [  9.           3.           6.         100.        ]\n",
      " [ 25.16666667   6.           4.          30.        ]\n",
      " [ 27.33333333   2.           4.          30.        ]\n",
      " [  8.66666667   4.           6.         100.        ]\n",
      " [  9.16666667   3.           3.         100.        ]\n",
      " [ 14.66666667   2.           5.          60.        ]\n",
      " [  9.16666667   3.           2.         100.        ]\n",
      " [ 26.66666667   3.           6.          30.        ]\n",
      " [ 25.33333333   6.           6.          30.        ]\n",
      " [ 13.83333333   4.           5.          60.        ]\n",
      " [ 26.33333333   3.           4.          30.        ]\n",
      " [ 25.16666667   5.           4.          30.        ]\n",
      " [ 13.66666667   6.           4.          60.        ]]\n"
     ]
    }
   ],
   "source": [
    "arr = df.to_numpy(dtype=np.float64)\n",
    "print(arr)"
   ]
  },
  {
   "cell_type": "code",
   "execution_count": 15,
   "metadata": {},
   "outputs": [],
   "source": [
    "Y = arr[:,0].reshape(-1,1)\n",
    "X = arr[:,1:]"
   ]
  },
  {
   "cell_type": "code",
   "execution_count": 16,
   "metadata": {},
   "outputs": [],
   "source": [
    "sorted_df = df.sort_values([\"Signal Bandwidth [THz]\"], ignore_index=True, ascending=False)\n",
    "sorted_df.index = range(1, len(sorted_df)+1)\n",
    "# sorted_df = sorted_df.astype(float)"
   ]
  },
  {
   "cell_type": "code",
   "execution_count": null,
   "metadata": {},
   "outputs": [],
   "source": [
    "sorted_df.head(72)"
   ]
  },
  {
   "cell_type": "code",
   "execution_count": null,
   "metadata": {},
   "outputs": [],
   "source": [
    "sorted_df.to_csv(\"/home/hjaleta/spin_project/AnalyseResults/Sorted Table of Bandwidths2.csv\", float_format= '%.1f')"
   ]
  },
  {
   "cell_type": "code",
   "execution_count": null,
   "metadata": {},
   "outputs": [],
   "source": [
    "scaler = preprocessing.StandardScaler().fit(X)"
   ]
  },
  {
   "cell_type": "code",
   "execution_count": null,
   "metadata": {},
   "outputs": [],
   "source": [
    "X_ct_scaled = scaler.transform(X)"
   ]
  },
  {
   "cell_type": "code",
   "execution_count": null,
   "metadata": {},
   "outputs": [],
   "source": [
    "scaler2 = preprocessing.StandardScaler().fit(X)\n",
    "X_scaled = scaler2.transform(X)"
   ]
  },
  {
   "cell_type": "code",
   "execution_count": null,
   "metadata": {},
   "outputs": [],
   "source": [
    "print"
   ]
  },
  {
   "cell_type": "code",
   "execution_count": null,
   "metadata": {},
   "outputs": [],
   "source": [
    "print(X_ct_scaled)"
   ]
  },
  {
   "cell_type": "code",
   "execution_count": null,
   "metadata": {},
   "outputs": [],
   "source": []
  },
  {
   "cell_type": "code",
   "execution_count": null,
   "metadata": {},
   "outputs": [],
   "source": [
    "print(Y)\n",
    "print(X)"
   ]
  },
  {
   "cell_type": "code",
   "execution_count": null,
   "metadata": {},
   "outputs": [],
   "source": [
    "BW = np.array(Y).reshape(-1,1)\n",
    "HS_params = np.array(X).reshape(-1,3)\n"
   ]
  },
  {
   "cell_type": "code",
   "execution_count": null,
   "metadata": {},
   "outputs": [],
   "source": [
    "print(HS_params[:,1])"
   ]
  },
  {
   "cell_type": "code",
   "execution_count": null,
   "metadata": {},
   "outputs": [],
   "source": [
    "cross_terms = []\n",
    "cross_terms.append(np.array(X[:,0]*X[:,1]))\n",
    "cross_terms.append(np.array(X[:,0]*X[:,2]))\n",
    "cross_terms.append(np.array(X[:,1]*X[:,2]))"
   ]
  },
  {
   "cell_type": "code",
   "execution_count": null,
   "metadata": {},
   "outputs": [],
   "source": [
    "ct = np.array(cross_terms).T"
   ]
  },
  {
   "cell_type": "code",
   "execution_count": null,
   "metadata": {},
   "outputs": [],
   "source": [
    "X_ct = np.concatenate((X,ct), axis=1)"
   ]
  },
  {
   "cell_type": "code",
   "execution_count": null,
   "metadata": {},
   "outputs": [],
   "source": [
    "print(X_ct.shape)\n",
    "print(X_ct)"
   ]
  },
  {
   "cell_type": "code",
   "execution_count": null,
   "metadata": {},
   "outputs": [],
   "source": [
    "print(cross_terms)"
   ]
  },
  {
   "cell_type": "code",
   "execution_count": null,
   "metadata": {},
   "outputs": [],
   "source": [
    "l_ct = LinearRegression().fit(X_ct_scaled, Y)"
   ]
  },
  {
   "cell_type": "code",
   "execution_count": null,
   "metadata": {},
   "outputs": [],
   "source": [
    "l_ct.coef_"
   ]
  },
  {
   "cell_type": "code",
   "execution_count": null,
   "metadata": {},
   "outputs": [],
   "source": [
    "l = LinearRegression().fit(X_scaled, Y)"
   ]
  },
  {
   "cell_type": "code",
   "execution_count": null,
   "metadata": {},
   "outputs": [],
   "source": [
    "l.coef_"
   ]
  },
  {
   "cell_type": "code",
   "execution_count": null,
   "metadata": {},
   "outputs": [],
   "source": [
    "print(BW.shape)\n",
    "print(HS_params.shape)"
   ]
  },
  {
   "cell_type": "code",
   "execution_count": null,
   "metadata": {},
   "outputs": [],
   "source": []
  }
 ],
 "metadata": {
  "interpreter": {
   "hash": "916dbcbb3f70747c44a77c7bcd40155683ae19c65e1c03b4aa3499c5328201f1"
  },
  "kernelspec": {
   "display_name": "Python 3.8.10 64-bit",
   "language": "python",
   "name": "python3"
  },
  "language_info": {
   "codemirror_mode": {
    "name": "ipython",
    "version": 3
   },
   "file_extension": ".py",
   "mimetype": "text/x-python",
   "name": "python",
   "nbconvert_exporter": "python",
   "pygments_lexer": "ipython3",
   "version": "3.8.10"
  },
  "orig_nbformat": 4
 },
 "nbformat": 4,
 "nbformat_minor": 2
}
