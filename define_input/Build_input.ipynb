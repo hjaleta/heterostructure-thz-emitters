{
 "cells": [
  {
   "cell_type": "code",
   "execution_count": 26,
   "id": "5d3b473a",
   "metadata": {},
   "outputs": [],
   "source": [
    "import os"
   ]
  },
  {
   "cell_type": "code",
   "execution_count": 33,
   "id": "b72a627d",
   "metadata": {},
   "outputs": [],
   "source": [
    "the_dir = \"/home/hjaleta/spin_project/define_input/new_dir/new\"\n",
    "# parent_dir = \"/home/hjaleta/spin_project/define_input\"\n",
    "# new_dir = \"new_dir\"\n",
    "# path = os.path.join(parent_dir, directory)\n",
    "os.makedirs(the_dir)\n",
    "# current = os.getcwd()\n",
    "# print(current)\n"
   ]
  },
  {
   "cell_type": "code",
   "execution_count": 23,
   "id": "nutritional-planner",
   "metadata": {},
   "outputs": [],
   "source": [
    "def build_input_file(source_path, new_path, params):\n",
    "    old_file = open(source_path, \"r\")\n",
    "    lines = old_file.read().split(\"\\n\")\n",
    "#     lines = c.split(\"\\n\")\n",
    "#     for i, line in enumerate(lines):\n",
    "#         print(f\"{i}) {line}\")\n",
    "    \n",
    "    materials, thick, laser = params\n",
    "    \n",
    "    if (len(materials) != len(thick)):\n",
    "        raise ValueError()\n",
    "    \n",
    "    materials = \" \".join(materials)\n",
    "    z_max = f\"{int(sum(thick))}.\"\n",
    "    N_regions = str(len(materials))\n",
    "    laser  = f\"{laser}.\"\n",
    "    \n",
    "    interfaces = []\n",
    "    z = 0\n",
    "    for t in thick[:-1]:\n",
    "        z += t\n",
    "        interfaces.append(str(z))\n",
    "    interfaces = \". \".join(interfaces) + \".\"\n",
    "    \n",
    "    lines[12] = z_max\n",
    "    lines[26] = N_regions\n",
    "    lines[28] = interfaces\n",
    "    lines[30] = materials\n",
    "    lines[38] = laser\n",
    "    \n",
    "#     for i, line in enumerate(lines):\n",
    "#         print(f\"{i}) {line}\")\n",
    "    \n",
    "    new_file_string = \"\\n\".join(lines)\n",
    "    new_file = open(new_path,\"w\")\n",
    "    new_file.write(new_file_string)\n",
    "    new_file.close()\n",
    "    \n",
    "def generate_params(values):\n",
    "    \"\"\"Generates a list of param tuples that define material, widths and laser\"\"\"\n",
    "    widths, lasers, materials = values\n",
    "    param_list = []\n",
    "    \n",
    "    \n",
    "def build_input_folder(folderpath, filepaths):\n",
    "    pass\n",
    "    \n",
    "\n",
    "    \n"
   ]
  },
  {
   "cell_type": "code",
   "execution_count": null,
   "id": "637ffb4f",
   "metadata": {},
   "outputs": [],
   "source": [
    "source_path\n",
    "for params in params_set:\n",
    "    dir_str = make_dir_str(params)\n",
    "    make_input_folder(source_path, params, dir_str)"
   ]
  },
  {
   "cell_type": "code",
   "execution_count": 24,
   "id": "ec96ed6c",
   "metadata": {},
   "outputs": [
    {
     "name": "stdout",
     "output_type": "stream",
     "text": [
      "f\n"
     ]
    }
   ],
   "source": [
    "k = [\"\",\"\"]\n",
    "l = \"f\".join(k)\n",
    "print(l)"
   ]
  },
  {
   "cell_type": "code",
   "execution_count": 25,
   "id": "anticipated-bishop",
   "metadata": {},
   "outputs": [],
   "source": [
    "path = \"input2.dat\"\n",
    "new_path = \"input_mod.dat\"\n",
    "\n",
    "materials= [\"W\", \"Ni\", \"Pt\"]\n",
    "thick = [2, 3, 5]\n",
    "laser = 70\n",
    "\n",
    "params = (materials, thick, laser)\n",
    "\n",
    "build_input_file(path, new_path, params)"
   ]
  },
  {
   "cell_type": "code",
   "execution_count": null,
   "id": "dynamic-walker",
   "metadata": {},
   "outputs": [],
   "source": []
  }
 ],
 "metadata": {
  "kernelspec": {
   "display_name": "Python 3 (ipykernel)",
   "language": "python",
   "name": "python3"
  },
  "language_info": {
   "codemirror_mode": {
    "name": "ipython",
    "version": 3
   },
   "file_extension": ".py",
   "mimetype": "text/x-python",
   "name": "python",
   "nbconvert_exporter": "python",
   "pygments_lexer": "ipython3",
   "version": "3.8.10"
  }
 },
 "nbformat": 4,
 "nbformat_minor": 5
}
