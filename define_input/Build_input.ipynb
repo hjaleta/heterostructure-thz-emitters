{
 "cells": [
  {
   "cell_type": "code",
   "execution_count": 26,
   "id": "5d3b473a",
   "metadata": {},
   "outputs": [],
   "source": [
    "import os\n",
    "import shutil"
   ]
  },
  {
   "cell_type": "code",
   "execution_count": 7,
   "id": "b72a627d",
   "metadata": {},
   "outputs": [
    {
     "ename": "NameError",
     "evalue": "name 'os' is not defined",
     "output_type": "error",
     "traceback": [
      "\u001b[0;31m---------------------------------------------------------------------------\u001b[0m",
      "\u001b[0;31mNameError\u001b[0m                                 Traceback (most recent call last)",
      "\u001b[0;32m/tmp/ipykernel_1155/3179024382.py\u001b[0m in \u001b[0;36m<module>\u001b[0;34m\u001b[0m\n\u001b[1;32m      3\u001b[0m \u001b[0;31m# new_dir = \"new_dir\"\u001b[0m\u001b[0;34m\u001b[0m\u001b[0;34m\u001b[0m\u001b[0;34m\u001b[0m\u001b[0m\n\u001b[1;32m      4\u001b[0m \u001b[0;31m# path = os.path.join(parent_dir, directory)\u001b[0m\u001b[0;34m\u001b[0m\u001b[0;34m\u001b[0m\u001b[0;34m\u001b[0m\u001b[0m\n\u001b[0;32m----> 5\u001b[0;31m \u001b[0mos\u001b[0m\u001b[0;34m.\u001b[0m\u001b[0mmakedirs\u001b[0m\u001b[0;34m(\u001b[0m\u001b[0mthe_dir\u001b[0m\u001b[0;34m)\u001b[0m\u001b[0;34m\u001b[0m\u001b[0;34m\u001b[0m\u001b[0m\n\u001b[0m\u001b[1;32m      6\u001b[0m \u001b[0;31m# current = os.getcwd()\u001b[0m\u001b[0;34m\u001b[0m\u001b[0;34m\u001b[0m\u001b[0;34m\u001b[0m\u001b[0m\n\u001b[1;32m      7\u001b[0m \u001b[0;31m# print(current)\u001b[0m\u001b[0;34m\u001b[0m\u001b[0;34m\u001b[0m\u001b[0;34m\u001b[0m\u001b[0m\n",
      "\u001b[0;31mNameError\u001b[0m: name 'os' is not defined"
     ]
    }
   ],
   "source": [
    "the_dir = \"/home/hjaleta/spin_project/define_input/new_dir/new\"\n",
    "# parent_dir = \"/home/hjaleta/spin_project/define_input\"\n",
    "# new_dir = \"new_dir\"\n",
    "# path = os.path.join(parent_dir, directory)\n",
    "os.makedirs(the_dir)\n",
    "# current = os.getcwd()\n",
    "# print(current)\n"
   ]
  },
  {
   "cell_type": "code",
   "execution_count": 25,
   "id": "nutritional-planner",
   "metadata": {},
   "outputs": [],
   "source": [
    "def build_input_file(source_path, new_path, params):\n",
    "    old_file = open(source_path, \"r\")\n",
    "    lines = old_file.read().split(\"\\n\")\n",
    "    materials, widths, laser, closed = params\n",
    "    \n",
    "    if (len(materials) != len(widths)):\n",
    "        raise ValueError(\"Materials and widths not matching\")\n",
    "        \n",
    "    materials = \" \".join(materials)\n",
    "    z_max = f\"{int(sum(widths))}.\"\n",
    "    N_regions = str(len(materials))\n",
    "    laser  = f\"{laser}.\"\n",
    "    interfaces = []\n",
    "    z = 0\n",
    "    for w in widths[:-1]:\n",
    "        z += w\n",
    "        interfaces.append(str(z))\n",
    "    interfaces = \". \".join(interfaces) + \".\"\n",
    "    \n",
    "    lines[12] = z_max\n",
    "    lines[26] = N_regions\n",
    "    lines[28] = interfaces\n",
    "    lines[30] = materials\n",
    "    lines[38] = laser\n",
    "    \n",
    "    if closed:\n",
    "        lines[32] = \"materialsdata_up_down.dat reflect_ssv1-closed.dat\"\n",
    "    else:\n",
    "        lines[32] = \"materialsdata_up_down.dat reflect_ssv1-open.dat\"\n",
    "    \n",
    "    for i, line in enumerate(lines):\n",
    "        print(f\"{i}) \" + line)\n",
    "    \n",
    "    \n",
    "    new_file_string = \"\\n\".join(lines)\n",
    "    new_file = open(new_path,\"w\")\n",
    "    new_file.write(new_file_string)\n",
    "    new_file.close()\n",
    "    \n",
    "def generate_params(materials, widths, lasers, closed):\n",
    "    \"\"\"Generates a list of param tuples that define material, widths and laser\"\"\"\n",
    "    param_list = []\n",
    "    \n",
    "    \n",
    "    if len(materials) == 2:\n",
    "        wlist1, wlist2 = widths\n",
    "        for w1 in wlist1:\n",
    "            for w2 in wlist2:\n",
    "                for laser in lasers:\n",
    "                    for c in closed:\n",
    "                        param_list.append((materials, (w1,w2), laser, c))\n",
    "    \n",
    "    elif len(materials) == 3:\n",
    "        wlist1, wlist2, wlist3 = widths\n",
    "        for w1 in wlist1:\n",
    "            for w2 in wlist2:\n",
    "                for w3 in wlist3:\n",
    "                    for laser in lasers:\n",
    "                        for c in closed:\n",
    "                            param_list.append((materials, (w1,w2,w3), laser, c))\n",
    "    else:\n",
    "        raise ValueError(\"2 or 3 material layers accepted\")\n",
    "    return param_list\n",
    "\n",
    "def params_to_path(parent_path, params):\n",
    "    materials, widths, laser, closed = params\n",
    "    m = \"\".join(materials)\n",
    "    w = \"-\".join([str(w) for w in widths])\n",
    "    l = str(laser)\n",
    "    if closed:\n",
    "        c = \"closed\"\n",
    "    else:\n",
    "        c = \"open\"\n",
    "    path = f\"{parent_path}/{m}-{c}/{w} & {l}\"\n",
    "    return path\n",
    "\n",
    "def build_input_folder(folderpath, source_path, params):\n",
    "    \n",
    "    os.makedirs(folderpath)\n",
    "    materials_data_source_path = f\"{source_path}/materialsdata_up_down.dat\"\n",
    "    materials_data_target_path = f\"{folder_path}/materialsdata_up_down.dat\"\n",
    "    shutil.copyfile(materials_data_source_path, materials_data_target_path)\n",
    "    \n",
    "    reflect_source_path = f\"{source_path}/reflect_ssv1.dat\"\n",
    "    reflect_target_path = f\"{folder_path}/reflect_ssv1.dat\"\n",
    "    shutil.copyfile(reflect_source_path, reflect_target_path)\n",
    "    \n",
    "    input_source_path = f\"{source_path}/input.dat\"\n",
    "    input_target_path = f\"{folder_path}/input.dat\"\n",
    "    build_input_file(input_source_path, input_target_path, params)\n",
    "    \n",
    "    \n",
    "\n",
    "\n",
    "\n",
    "    \n"
   ]
  },
  {
   "cell_type": "code",
   "execution_count": 26,
   "id": "a37a91d7",
   "metadata": {},
   "outputs": [
    {
     "name": "stdout",
     "output_type": "stream",
     "text": [
      "[(['Ni', 'Pt'], (2, 7), 30, True), (['Ni', 'Pt'], (2, 7), 60, True), (['Ni', 'Pt'], (2, 7), 100, True), (['Ni', 'Pt'], (2, 8), 30, True), (['Ni', 'Pt'], (2, 8), 60, True), (['Ni', 'Pt'], (2, 8), 100, True), (['Ni', 'Pt'], (2, 9), 30, True), (['Ni', 'Pt'], (2, 9), 60, True), (['Ni', 'Pt'], (2, 9), 100, True), (['Ni', 'Pt'], (3, 7), 30, True), (['Ni', 'Pt'], (3, 7), 60, True), (['Ni', 'Pt'], (3, 7), 100, True), (['Ni', 'Pt'], (3, 8), 30, True), (['Ni', 'Pt'], (3, 8), 60, True), (['Ni', 'Pt'], (3, 8), 100, True), (['Ni', 'Pt'], (3, 9), 30, True), (['Ni', 'Pt'], (3, 9), 60, True), (['Ni', 'Pt'], (3, 9), 100, True), (['Ni', 'Pt'], (4, 7), 30, True), (['Ni', 'Pt'], (4, 7), 60, True), (['Ni', 'Pt'], (4, 7), 100, True), (['Ni', 'Pt'], (4, 8), 30, True), (['Ni', 'Pt'], (4, 8), 60, True), (['Ni', 'Pt'], (4, 8), 100, True), (['Ni', 'Pt'], (4, 9), 30, True), (['Ni', 'Pt'], (4, 9), 60, True), (['Ni', 'Pt'], (4, 9), 100, True)]\n",
      "/home/hjaleta/spin_project/define_input/NiPt-closed/4-9 & 100\n"
     ]
    }
   ],
   "source": [
    "materials= [\"Ni\", \"Pt\"]\n",
    "w1 = [2, 3, 4]\n",
    "w2 = [7,8,9]\n",
    "widths = [w1,w2]\n",
    "laser = [30,60,100]\n",
    "closed = [True]\n",
    "\n",
    "plist = generate_params(materials, widths, laser, closed)\n",
    "print(plist)\n",
    "\n",
    "parent_path = \"/home/hjaleta/spin_project/define_input\"\n",
    "\n",
    "p = params_to_path(parent_path, plist[-1])\n",
    "print(p)"
   ]
  },
  {
   "cell_type": "code",
   "execution_count": null,
   "id": "637ffb4f",
   "metadata": {},
   "outputs": [],
   "source": [
    "source_path\n",
    "for params in params_set:\n",
    "    dir_str = make_dir_str(params)\n",
    "    make_input_folder(source_path, params, dir_str)"
   ]
  },
  {
   "cell_type": "code",
   "execution_count": 24,
   "id": "ec96ed6c",
   "metadata": {},
   "outputs": [
    {
     "name": "stdout",
     "output_type": "stream",
     "text": [
      "f\n"
     ]
    }
   ],
   "source": [
    "k = [\"\",\"\"]\n",
    "l = \"f\".join(k)\n",
    "print(l)"
   ]
  },
  {
   "cell_type": "code",
   "execution_count": 24,
   "id": "anticipated-bishop",
   "metadata": {},
   "outputs": [
    {
     "name": "stdout",
     "output_type": "stream",
     "text": [
      "0) Ver 3.1.0\n",
      "1) DO NOT CHANGE THE FORMAT, do not enter blank lines, always make it consistent\n",
      "2) USE THIS FILE AS STANDARD INPUT (Ex: qbd1D.exe < input.dat )\n",
      "3) -> Verbosity (verbosity) [0=low,1=high,2=diagnostic]\n",
      "4) 1\n",
      "5) -> Smearing of Step Function (k should be high 500. is a good value)\n",
      "6) 500.\n",
      "7) -> Smoothing of solution (should be =0.)\n",
      "8) 0.\n",
      "9) -> Z min in nm (zmin) [Real number: put a point!]\n",
      "10) 0.\n",
      "11) -> Z max in nm (zmax) [Real number: put a point!]\n",
      "12) 10.\n",
      "13) -> t min in fs (tmin) [Real number: put a point!]\n",
      "14) 0.\n",
      "15) -> t max in fs (tmax) [Real number: put a point!]\n",
      "16) 200.\n",
      "17) -> Spatial Discretization Step in nm (dz) [Real number: put a point!]\n",
      "18) 1.0\n",
      "19) -> Temporal Discretization Step in fs (dt) [Real number: put a point!]\n",
      "20) 1.0\n",
      "21) -> (rtbound) in fs. This is the most distant past that we take into account\n",
      "22) 60\n",
      "23) -> Energy Discretization Step in eV (dE) [Real number: put a point!]\n",
      "24) 0.125 \n",
      "25) -> Number of different regions \n",
      "26) 7\n",
      "27) -> Places of interfaces (nm)\n",
      "28) 2. 5.\n",
      "29) -> Materials in different regions (2 letters per material separated by a space)\n",
      "30) W Ni Pt\n",
      "31) -> Name of the file with the Properties of the Material (filmaterialprop)\n",
      "32) materialsdata_up_down.dat reflect_ssv1.dat\n",
      "33) -> Type of input for the External Source (extsourcetype) [delta,general,test,expgauss]\n",
      "34) expgauss\n",
      "35) -> Source data\n",
      "36) EXPGAUSS TYPE EXTERNAL SOURCE\n",
      "37) -> Time length of pulse (at half width)\n",
      "38) 70.\n",
      "39) -> Time position of peak\n",
      "40) 50.\n",
      "41) -> Lambda coefficients in different regions\n",
      "42) 15.0 15.0\n",
      "43) -> Average number of excited electrons [spin,energy,region] (WARNING: Energy channels should be consistent with Material Properties!)\n",
      "44) Spin down\n",
      "45) 3.126 6.932\n",
      "46) 2.617 5.617\n",
      "47) 2.514 4.164\n",
      "48) 2.686 2.880\n",
      "49) 3.164 1.901\n",
      "50) 4.089 1.354\n",
      "51) 5.518 1.165\n",
      "52) 7.251 1.122\n",
      "53) 9.059 1.112\n",
      "54) 11.007 1.107\n",
      "55) 13.112 1.102\n",
      "56) 14.797 1.098\n",
      "57) Spin up\n",
      "58) 6.704 6.932\n",
      "59) 4.980 5.617\n",
      "60) 3.294 4.164\n",
      "61) 2.225 2.880\n",
      "62) 1.784 1.901\n",
      "63) 1.665 1.354\n",
      "64) 1.630 1.165\n",
      "65) 1.605 1.122\n",
      "66) 1.583 1.112\n",
      "67) 1.560 1.107\n",
      "68) 1.537 1.102\n",
      "69) 1.516 1.098\n"
     ]
    }
   ],
   "source": [
    "path = \"input2.dat\"\n",
    "new_path = \"input_mod.dat\"\n",
    "\n",
    "materials= [\"W\", \"Ni\", \"Pt\"]\n",
    "thick = [2, 3, 5]\n",
    "laser = 70\n",
    "closed = True\n",
    "\n",
    "params = (materials, thick, laser, True)\n",
    "\n",
    "build_input_file(path, new_path, params)"
   ]
  },
  {
   "cell_type": "code",
   "execution_count": null,
   "id": "dynamic-walker",
   "metadata": {},
   "outputs": [],
   "source": []
  }
 ],
 "metadata": {
  "kernelspec": {
   "display_name": "Python 3 (ipykernel)",
   "language": "python",
   "name": "python3"
  },
  "language_info": {
   "codemirror_mode": {
    "name": "ipython",
    "version": 3
   },
   "file_extension": ".py",
   "mimetype": "text/x-python",
   "name": "python",
   "nbconvert_exporter": "python",
   "pygments_lexer": "ipython3",
   "version": "3.8.10"
  }
 },
 "nbformat": 4,
 "nbformat_minor": 5
}
