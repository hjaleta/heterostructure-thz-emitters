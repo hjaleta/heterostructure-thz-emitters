{
 "cells": [
  {
   "cell_type": "code",
   "execution_count": 20,
   "id": "nutritional-planner",
   "metadata": {},
   "outputs": [],
   "source": [
    "def build_input_file(original_path):#, new_path, materials, thick, laser):\n",
    "    f = open(original_path, \"r\")\n",
    "    c = f.read()\n",
    "    lines = c.split(\"\\n\")\n",
    "    for i, line in enumerate(lines):\n",
    "        print(f\"{i}) {line}\")\n",
    "    \n",
    "    if (len(materials) != len(thick)):\n",
    "        raise ValueError()\n",
    "    \n",
    "    zmax = int(sum(thick))\n",
    "    \n"
   ]
  },
  {
   "cell_type": "code",
   "execution_count": 21,
   "id": "anticipated-bishop",
   "metadata": {},
   "outputs": [
    {
     "name": "stdout",
     "output_type": "stream",
     "text": [
      "0) Ver 3.1.0\n",
      "1) DO NOT CHANGE THE FORMAT, do not enter blank lines, always make it consistent\n",
      "2) USE THIS FILE AS STANDARD INPUT (Ex: qbd1D.exe < input.dat )\n",
      "3) -> Verbosity (verbosity) [0=low,1=high,2=diagnostic]\n",
      "4) 1\n",
      "5) -> Smearing of Step Function (k should be high 500. is a good value)\n",
      "6) 500.\n",
      "7) -> Smoothing of solution (should be =0.)\n",
      "8) 0.\n",
      "9) -> Z min in nm (zmin) [Real number: put a point!]\n",
      "10) 0.\n",
      "11) -> Z max in nm (zmax) [Real number: put a point!]\n",
      "12) 8.\n",
      "13) -> t min in fs (tmin) [Real number: put a point!]\n",
      "14) 0.\n",
      "15) -> t max in fs (tmax) [Real number: put a point!]\n",
      "16) 200.\n",
      "17) -> Spatial Discretization Step in nm (dz) [Real number: put a point!]\n",
      "18) 1.0\n",
      "19) -> Temporal Discretization Step in fs (dt) [Real number: put a point!]\n",
      "20) 1.0\n",
      "21) -> (rtbound) in fs. This is the most distant past that we take into account\n",
      "22) 60\n",
      "23) -> Energy Discretization Step in eV (dE) [Real number: put a point!]\n",
      "24) 0.125 \n",
      "25) -> Number of different regions \n",
      "26) 2\n",
      "27) -> Places of interfaces (nm)\n",
      "28) 5.\n",
      "29) -> Materials in different regions (2 letters per material separated by a space)\n",
      "30) Fu Pt\n",
      "31) -> Name of the file with the Properties of the Material (filmaterialprop)\n",
      "32) materialsdata_up_down.dat reflect_ssv1.dat\n",
      "33) -> Type of input for the External Source (extsourcetype) [delta,general,test,expgauss]\n",
      "34) expgauss\n",
      "35) -> Source data\n",
      "36) EXPGAUSS TYPE EXTERNAL SOURCE\n",
      "37) -> Time length of pulse (at half width)\n",
      "38) 30.\n",
      "39) -> Time position of peak\n",
      "40) 50.\n",
      "41) -> Lambda coefficients in different regions\n",
      "42) 15.0 15.0\n",
      "43) -> Average number of excited electrons [spin,energy,region] (WARNING: Energy channels should be consistent with Material Properties!)\n",
      "44) Spin down\n",
      "45) 3.126 6.932\n",
      "46) 2.617 5.617\n",
      "47) 2.514 4.164\n",
      "48) 2.686 2.880\n",
      "49) 3.164 1.901\n",
      "50) 4.089 1.354\n",
      "51) 5.518 1.165\n",
      "52) 7.251 1.122\n",
      "53) 9.059 1.112\n",
      "54) 11.007 1.107\n",
      "55) 13.112 1.102\n",
      "56) 14.797 1.098\n",
      "57) Spin up\n",
      "58) 6.704 6.932\n",
      "59) 4.980 5.617\n",
      "60) 3.294 4.164\n",
      "61) 2.225 2.880\n",
      "62) 1.784 1.901\n",
      "63) 1.665 1.354\n",
      "64) 1.630 1.165\n",
      "65) 1.605 1.122\n",
      "66) 1.583 1.112\n",
      "67) 1.560 1.107\n",
      "68) 1.537 1.102\n",
      "69) 1.516 1.098\n"
     ]
    }
   ],
   "source": [
    "path = \"input2.dat\"\n",
    "\n",
    "build_input_file(path)"
   ]
  },
  {
   "cell_type": "code",
   "execution_count": null,
   "id": "dynamic-walker",
   "metadata": {},
   "outputs": [],
   "source": []
  }
 ],
 "metadata": {
  "kernelspec": {
   "display_name": "Python 3",
   "language": "python",
   "name": "python3"
  },
  "language_info": {
   "codemirror_mode": {
    "name": "ipython",
    "version": 3
   },
   "file_extension": ".py",
   "mimetype": "text/x-python",
   "name": "python",
   "nbconvert_exporter": "python",
   "pygments_lexer": "ipython3",
   "version": "3.8.5"
  }
 },
 "nbformat": 4,
 "nbformat_minor": 5
}
