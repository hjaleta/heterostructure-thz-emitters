{
 "cells": [
  {
   "cell_type": "code",
   "execution_count": 5,
   "id": "boolean-endorsement",
   "metadata": {},
   "outputs": [],
   "source": [
    "import os\n"
   ]
  },
  {
   "cell_type": "code",
   "execution_count": null,
   "id": "compliant-quilt",
   "metadata": {},
   "outputs": [],
   "source": [
    "def check_folders(folder_rootdir, filename)\n",
    "\n",
    "    N_folders = 0\n",
    "    corrupted_folders = []\n",
    "\n",
    "    for folder in os.listdir(folder_rootdir):\n",
    "        N_folders += 1\n",
    "        folderpath = rootdir+folder\n",
    "        has_file = False\n",
    "        for file in os.listdir(folderpath):\n",
    "            if file == filename:\n",
    "                has_file = True\n",
    "        if not has_file:\n",
    "            corrupted_folders.append(folderpath)\n",
    "    \n",
    "    return corrupted_folders, N_folders\n",
    "\n",
    "def build_input_params(z, param_source_path, param_target_path, spin_flux_path):\n",
    "    with open(param_source, 'r') as f:\n",
    "        lines = f.read().split(\"\\n\")\n",
    "    lines[10] = f'\"x\": (-1000, 1000), \"y\":(-1000, 1000), \"z\": (0,{z[0]}),'\n",
    "    lines[17] = f'\"x\": (-1000, 1000), \"y\":(-1000, 1000), \"z\": ({z[0]}, {sum(z)}),'\n",
    "    lines[35] = f'spin_flux_path = \"{spin_flux_path}\"'\n",
    "    input_params_string = \"\\n\".join(lines)\n",
    "    input_params_file = open(param_target_path,\"w\")\n",
    "    input_params_file.write(input_params_string)\n",
    "    input_params_file.close()"
   ]
  },
  {
   "cell_type": "code",
   "execution_count": null,
   "id": "superb-dominant",
   "metadata": {},
   "outputs": [],
   "source": [
    "folder_rootdir = '/home/hjaleta/spin_project/Results - Spin Current/FuPt-closed/'\n",
    "filename = \"flux.out\"\n",
    "\n",
    "corrupted_folders, N_folders = check_folders(folder_rootdir, filename)"
   ]
  },
  {
   "cell_type": "code",
   "execution_count": null,
   "id": "disturbed-custom",
   "metadata": {},
   "outputs": [],
   "source": [
    "param_source = \"input_params.py\"\n",
    "param_target =\"input_params_new.py\"\n",
    "z = (3,3)\n",
    "spin_flux_path = \"datadata/FePt_bilayer-open/flux.out\"\n",
    "\n",
    "build_input_params(z, param_source, param_target, spin_flux_path)"
   ]
  },
  {
   "cell_type": "code",
   "execution_count": null,
   "id": "automated-leone",
   "metadata": {},
   "outputs": [],
   "source": []
  },
  {
   "cell_type": "code",
   "execution_count": null,
   "id": "intellectual-thomas",
   "metadata": {},
   "outputs": [],
   "source": []
  }
 ],
 "metadata": {
  "kernelspec": {
   "display_name": "Python 3 (ipykernel)",
   "language": "python",
   "name": "python3"
  },
  "language_info": {
   "codemirror_mode": {
    "name": "ipython",
    "version": 3
   },
   "file_extension": ".py",
   "mimetype": "text/x-python",
   "name": "python",
   "nbconvert_exporter": "python",
   "pygments_lexer": "ipython3",
   "version": "3.8.10"
  }
 },
 "nbformat": 4,
 "nbformat_minor": 5
}
