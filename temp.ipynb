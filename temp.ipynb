{
 "cells": [
  {
   "cell_type": "code",
   "execution_count": 10,
   "metadata": {},
   "outputs": [],
   "source": [
    "import os\n",
    "import shutil"
   ]
  },
  {
   "cell_type": "code",
   "execution_count": 13,
   "metadata": {},
   "outputs": [],
   "source": [
    "p = \"generated_input/FuPt-closed\"\n",
    "\n",
    "for (root,dirs,files) in os.walk(p, topdown=True):\n",
    "    for dir_ in dirs:\n",
    "        if dir_ in [\"output\", \"spin_current\"]:\n",
    "            shutil.rmtree(root + \"/\" + dir_)\n",
    "    for f in files:\n",
    "        if (f in [\"flux.out\", \"magnetization.out\", \"oput.dat\"]) or (f[:5] == \"slurm\"):\n",
    "            os.remove(root + \"/\" + f)\n",
    "    # print(\"het\")\n",
    "    # print(root, dirs, files)"
   ]
  }
 ],
 "metadata": {
  "interpreter": {
   "hash": "916dbcbb3f70747c44a77c7bcd40155683ae19c65e1c03b4aa3499c5328201f1"
  },
  "kernelspec": {
   "display_name": "Python 3.8.10 64-bit",
   "language": "python",
   "name": "python3"
  },
  "language_info": {
   "codemirror_mode": {
    "name": "ipython",
    "version": 3
   },
   "file_extension": ".py",
   "mimetype": "text/x-python",
   "name": "python",
   "nbconvert_exporter": "python",
   "pygments_lexer": "ipython3",
   "version": "3.8.10"
  },
  "orig_nbformat": 4
 },
 "nbformat": 4,
 "nbformat_minor": 2
}
