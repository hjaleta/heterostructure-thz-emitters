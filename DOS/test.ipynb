{
 "cells": [
  {
   "cell_type": "code",
   "execution_count": 2,
   "id": "f3f57f47",
   "metadata": {},
   "outputs": [],
   "source": [
    "import numpy as np\n",
    "Pt = np.loadtxt(\"Pt/DOS.dat\")\n",
    "Fe = np.loadtxt(\"Fe/DOS.dat\")"
   ]
  },
  {
   "cell_type": "code",
   "execution_count": 3,
   "id": "87cae02c",
   "metadata": {},
   "outputs": [
    {
     "name": "stdout",
     "output_type": "stream",
     "text": [
      "[[-0.412414  1.661276  2.045079  3.706355]]\n",
      "(24, 4)\n"
     ]
    }
   ],
   "source": [
    "i = 0 \n",
    "first = True\n",
    "for row in Fe:\n",
    "    E = row[0]\n",
    "    if E > -0.5 and E < 2:\n",
    "        if first:\n",
    "            arr = row.copy().reshape(1,4)\n",
    "            print(arr)\n",
    "            first = False\n",
    "        else:\n",
    "            arr = np.append(arr,row.reshape((1,4)), axis = 0)\n",
    "\n",
    "\n",
    "print(arr.shape)\n",
    "data = arr"
   ]
  },
  {
   "cell_type": "code",
   "execution_count": 11,
   "id": "3735916a",
   "metadata": {},
   "outputs": [],
   "source": [
    "def interpolate(E, data):\n",
    "    for row1 in data:\n",
    "        if row1[0] > E:\n",
    "            offset = E - row0[0]\n",
    "            delta_E = row1[0]-row0[0]\n",
    "            delta_spin_up = row1[1] - row0[1]\n",
    "            delta_spin_down = row1[2] - row0[2]\n",
    "            up_slope = delta_spin_up/delta_E\n",
    "            down_slope = delta_spin_down/delta_E\n",
    "            new_up = row0[1] + offset * up_slope\n",
    "            new_down = row0[2] + offset * down_slope\n",
    "            new_tot = new_up + new_down\n",
    "            new_row = np.array([E, new_up, new_down, new_tot])\n",
    "            return new_row\n",
    "        row0 = row1\n",
    "\n",
    "def trapz(f, x):\n",
    "    vals = []\n",
    "    for a,b,x0,x1 in zip(f[:-1], f[1:], x[:-1], x[1:]):\n",
    "        dx = x1 - x0\n",
    "        val = (a+b)*dx/2\n",
    "        vals.append(val)\n",
    "    vals_arr = np.array(vals)\n",
    "    return vals_arr        \n",
    "\n",
    "def integrate_DOS(E_DOS_intervals, data):\n",
    "#     DOS_pdf = np.zeros((0, 0))\n",
    "    E_0 = interpolate(E_DOS_intervals[0], data)\n",
    "#     DOS_pdf = np.append(DOS_pdf, E_0.reshape((1,4)), axis = 0)\n",
    "    DOS_pdf = E_0.reshape(1,4)\n",
    "    for E in E_DOS_intervals[1:]:\n",
    "        row = interpolate(E, data)\n",
    "        DOS_pdf = np.append(DOS_pdf, row.reshape((1,4)), axis = 0)\n",
    "    print(DOS_pdf)\n",
    "    \n",
    "\n",
    "\n",
    "    "
   ]
  },
  {
   "cell_type": "code",
   "execution_count": 12,
   "id": "fc6e323a",
   "metadata": {},
   "outputs": [
    {
     "name": "stdout",
     "output_type": "stream",
     "text": [
      "[0.    0.125 0.25  0.375 0.5   0.625 0.75  0.875 1.    1.125 1.25  1.375\n",
      " 1.5  ]\n",
      "[[0.         1.40693935 0.66111287 2.06805222]\n",
      " [0.125      1.11906595 0.51668351 1.63574946]\n",
      " [0.25       0.75746733 0.46940016 1.22686748]\n",
      " [0.375      0.48377855 0.47774084 0.96151939]\n",
      " [0.5        0.3544825  0.53445576 0.88893826]\n",
      " [0.625      0.31765265 0.65771821 0.97537087]\n",
      " [0.75       0.30953607 0.88319388 1.19272995]\n",
      " [0.875      0.30449066 1.19593077 1.50042143]\n",
      " [1.         0.30013252 1.5362871  1.83641963]\n",
      " [1.125      0.29636175 1.87722015 2.1735819 ]\n",
      " [1.25       0.29163069 2.27008569 2.56171638]\n",
      " [1.375      0.28747552 2.67061899 2.95809451]\n",
      " [1.5        0.28382934 2.90497174 3.18880108]]\n",
      "Hey\n",
      "Hey\n",
      "Hey\n",
      "Hey\n",
      "Hey\n",
      "Hey\n",
      "Hey\n",
      "Hey\n",
      "Hey\n",
      "Hey\n",
      "Hey\n",
      "Hey\n"
     ]
    }
   ],
   "source": [
    "step = 0.125\n",
    "start = 0\n",
    "end = 1.5\n",
    "\n",
    "DOS_eV = np.arange(start, end + step, step)\n",
    "print(DOS_eV)\n",
    "\n",
    "integrate_DOS(DOS_eV, data)"
   ]
  },
  {
   "cell_type": "code",
   "execution_count": null,
   "id": "edd4d85d",
   "metadata": {},
   "outputs": [],
   "source": [
    "step = 0.125\n",
    "start = 0\n",
    "end = 1.5\n",
    "\n",
    "DOS_eV = np.arange(start - step/2, end + step*3/2, step)\n",
    "print(DOS_eV)\n",
    "\n",
    "# def one_trap(a,b,h):\n",
    "#     area = (a+b)*h/2\n",
    "\n",
    "def interpolate(E, data):\n",
    "    for row1 in data:\n",
    "        if row1[0] > E:\n",
    "            offset = E - row0[0]\n",
    "            delta_E = row1[0]-row0[0]\n",
    "            delta_spin_up = row1[1] - row0[1]\n",
    "            delta_spin_down = row1[2] - row0[2]\n",
    "            up_slope = delta_spin_up/delta_E\n",
    "            down_slope = delta_spin_down/delta_E\n",
    "            new_up = row0[1] + offset * up_slope\n",
    "            new_down = row0[2] + offset * down_slope\n",
    "            new_tot = new_up + new_down\n",
    "            new_row = np.array([E, new_up, new_down, new_tot])\n",
    "            return new_row\n",
    "        row0 = row1"
   ]
  },
  {
   "cell_type": "code",
   "execution_count": null,
   "id": "86ce2315",
   "metadata": {},
   "outputs": [],
   "source": [
    "\n",
    "\n",
    "\n",
    "for E in DOS_eV:\n",
    "    row = interpolate(E, arr)\n",
    "    print(row)"
   ]
  },
  {
   "cell_type": "code",
   "execution_count": null,
   "id": "bb3b8db9",
   "metadata": {},
   "outputs": [],
   "source": [
    "print(arr)"
   ]
  },
  {
   "cell_type": "code",
   "execution_count": null,
   "id": "ad04683d",
   "metadata": {},
   "outputs": [],
   "source": []
  }
 ],
 "metadata": {
  "kernelspec": {
   "display_name": "Python 3 (ipykernel)",
   "language": "python",
   "name": "python3"
  },
  "language_info": {
   "codemirror_mode": {
    "name": "ipython",
    "version": 3
   },
   "file_extension": ".py",
   "mimetype": "text/x-python",
   "name": "python",
   "nbconvert_exporter": "python",
   "pygments_lexer": "ipython3",
   "version": "3.8.10"
  }
 },
 "nbformat": 4,
 "nbformat_minor": 5
}
