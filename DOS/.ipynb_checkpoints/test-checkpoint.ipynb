{
 "cells": [
  {
   "cell_type": "code",
   "execution_count": null,
   "id": "f3f57f47",
   "metadata": {},
   "outputs": [],
   "source": [
    "import numpy as np\n"
   ]
  },
  {
   "cell_type": "code",
   "execution_count": null,
   "id": "d34ce237",
   "metadata": {},
   "outputs": [],
   "source": [
    "Pt = np.loadtxt(\"Pt/DOS.dat\")\n",
    "Fe = np.loadtxt(\"Fe/DOS.dat\")\n",
    "\n",
    "print(Pt.shape)\n",
    "print(Fe.shape)\n",
    "\n"
   ]
  },
  {
   "cell_type": "code",
   "execution_count": 28,
   "id": "87cae02c",
   "metadata": {},
   "outputs": [
    {
     "name": "stdout",
     "output_type": "stream",
     "text": [
      "[[-0.491104  2.599687  2.599687  5.199374]]\n",
      "(23, 4)\n"
     ]
    }
   ],
   "source": [
    "i = 0 \n",
    "first = True\n",
    "for row in Pt:\n",
    "    E = row[0]\n",
    "    if E > -0.5 and E < 2:\n",
    "        if first:\n",
    "            arr = row.copy().reshape(1,4)\n",
    "            print(arr)\n",
    "            first = False\n",
    "        else:\n",
    "            arr = np.append(arr,row.reshape((1,4)), axis = 0)\n",
    "\n",
    "print(arr.shape)\n"
   ]
  },
  {
   "cell_type": "code",
   "execution_count": null,
   "id": "3735916a",
   "metadata": {},
   "outputs": [],
   "source": []
  },
  {
   "cell_type": "code",
   "execution_count": 24,
   "id": "edd4d85d",
   "metadata": {},
   "outputs": [
    {
     "name": "stdout",
     "output_type": "stream",
     "text": [
      "[0.    0.125 0.25  0.375 0.5   0.625 0.75  0.875 1.    1.125 1.25  1.375\n",
      " 1.5  ]\n"
     ]
    }
   ],
   "source": [
    "step = 0.125\n",
    "start = 0\n",
    "end = 1.5\n",
    "\n",
    "DOS_eV = np.arange(start, end + step, step)\n",
    "print(DOS_eV)\n",
    "\n",
    "# def one_trap(a,b,h):\n",
    "#     area = (a+b)*h/2\n",
    "\n",
    "def interpolate(E, data):\n",
    "    for row1 in data:\n",
    "        if row1[0] > E:\n",
    "            offset = E - row0[0]\n",
    "            delta_E = row1[0]-row0[0]\n",
    "            delta_spin_up = row1[1] - row0[1]\n",
    "            delta_spin_down = row1[2] - row0[2]\n",
    "            up_slope = delta_spin_up/delta_E\n",
    "            down_slope = delta_spin_down/delta_E\n",
    "            new_up = row0[1] + offset * up_slope\n",
    "            new_down = row0[2] + offset * down_slope\n",
    "            new_tot = new_up + new_down\n",
    "            new_row = np.array([E, new_up, new_down, new_tot])\n",
    "            return new_row\n",
    "        row0 = row1"
   ]
  },
  {
   "cell_type": "code",
   "execution_count": 25,
   "id": "86ce2315",
   "metadata": {},
   "outputs": [
    {
     "name": "stdout",
     "output_type": "stream",
     "text": [
      "[0.         3.62294138 3.62294138 7.24588277]\n",
      "[0.125      3.07911366 3.07911366 6.15822731]\n",
      "[0.25       2.35179926 2.35179926 4.70359853]\n",
      "[0.375      1.67434394 1.67434394 3.34868788]\n",
      "[0.5        1.11018099 1.11018099 2.22036199]\n",
      "[0.625      0.72802897 0.72802897 1.45605795]\n",
      "[0.75      0.5809685 0.5809685 1.161937 ]\n",
      "[0.875      0.54552007 0.54552007 1.09104013]\n",
      "[1.         0.53900942 0.53900942 1.07801883]\n",
      "[1.125      0.53634487 0.53634487 1.07268974]\n",
      "[1.25       0.53412876 0.53412876 1.06825753]\n",
      "[1.375      0.53183821 0.53183821 1.06367642]\n",
      "[1.5        0.52982597 0.52982597 1.05965194]\n"
     ]
    }
   ],
   "source": [
    "for E in DOS_eV:\n",
    "    row = interpolate(E, arr)\n",
    "    print(row)"
   ]
  },
  {
   "cell_type": "code",
   "execution_count": 26,
   "id": "bb3b8db9",
   "metadata": {},
   "outputs": [
    {
     "name": "stdout",
     "output_type": "stream",
     "text": [
      "[[-0.491104  2.599687  2.599687  5.199374]\n",
      " [-0.379496  2.893663  2.893663  5.787326]\n",
      " [-0.267889  3.30562   3.30562   6.61124 ]\n",
      " [-0.156281  3.686409  3.686409  7.372818]\n",
      " [-0.044674  3.765398  3.765398  7.530796]\n",
      " [ 0.066934  3.409502  3.409502  6.819004]\n",
      " [ 0.178541  2.774472  2.774472  5.548945]\n",
      " [ 0.290149  2.114322  2.114322  4.228645]\n",
      " [ 0.401756  1.535606  1.535606  3.071211]\n",
      " [ 0.513364  1.052311  1.052311  2.104623]\n",
      " [ 0.624971  0.728066  0.728066  1.456132]\n",
      " [ 0.736579  0.585572  0.585572  1.171143]\n",
      " [ 0.848186  0.54729   0.54729   1.09458 ]\n",
      " [ 0.959794  0.539923  0.539923  1.079847]\n",
      " [ 1.071401  0.537387  0.537387  1.074774]\n",
      " [ 1.183009  0.535217  0.535217  1.070434]\n",
      " [ 1.294616  0.533404  0.533404  1.066808]\n",
      " [ 1.406224  0.53123   0.53123   1.06246 ]\n",
      " [ 1.517831  0.529559  0.529559  1.059118]\n",
      " [ 1.629439  0.527959  0.527959  1.055918]\n",
      " [ 1.741046  0.526567  0.526567  1.053134]\n",
      " [ 1.852654  0.525809  0.525809  1.051618]\n",
      " [ 1.964261  0.52418   0.52418   1.04836 ]]\n"
     ]
    }
   ],
   "source": [
    "print(arr)"
   ]
  },
  {
   "cell_type": "code",
   "execution_count": null,
   "id": "ad04683d",
   "metadata": {},
   "outputs": [],
   "source": []
  }
 ],
 "metadata": {
  "kernelspec": {
   "display_name": "Python 3 (ipykernel)",
   "language": "python",
   "name": "python3"
  },
  "language_info": {
   "codemirror_mode": {
    "name": "ipython",
    "version": 3
   },
   "file_extension": ".py",
   "mimetype": "text/x-python",
   "name": "python",
   "nbconvert_exporter": "python",
   "pygments_lexer": "ipython3",
   "version": "3.8.10"
  }
 },
 "nbformat": 4,
 "nbformat_minor": 5
}
